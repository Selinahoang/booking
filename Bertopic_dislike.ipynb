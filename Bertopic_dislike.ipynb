{
 "cells": [
  {
   "cell_type": "code",
   "execution_count": 1,
   "metadata": {},
   "outputs": [
    {
     "name": "stderr",
     "output_type": "stream",
     "text": [
      "[nltk_data] Downloading package punkt to C:\\Users\\Mien Trung\n",
      "[nltk_data]     CPT\\AppData\\Roaming\\nltk_data...\n",
      "[nltk_data]   Package punkt is already up-to-date!\n",
      "[nltk_data] Downloading package stopwords to C:\\Users\\Mien Trung\n",
      "[nltk_data]     CPT\\AppData\\Roaming\\nltk_data...\n",
      "[nltk_data]   Package stopwords is already up-to-date!\n",
      "[nltk_data] Downloading package wordnet to C:\\Users\\Mien Trung\n",
      "[nltk_data]     CPT\\AppData\\Roaming\\nltk_data...\n",
      "[nltk_data]   Package wordnet is already up-to-date!\n",
      "C:\\Users\\Mien Trung CPT\\AppData\\Local\\Packages\\PythonSoftwareFoundation.Python.3.11_qbz5n2kfra8p0\\LocalCache\\local-packages\\Python311\\site-packages\\tqdm\\auto.py:21: TqdmWarning: IProgress not found. Please update jupyter and ipywidgets. See https://ipywidgets.readthedocs.io/en/stable/user_install.html\n",
      "  from .autonotebook import tqdm as notebook_tqdm\n"
     ]
    }
   ],
   "source": [
    "# Data processing\n",
    "import pandas as pd\n",
    "import numpy as np\n",
    "\n",
    "# Text preprocessiong\n",
    "import nltk\n",
    "from nltk.tokenize import word_tokenize\n",
    "from nltk.corpus import stopwords\n",
    "from nltk.stem import WordNetLemmatizer\n",
    "nltk.download('punkt')\n",
    "nltk.download('stopwords')\n",
    "nltk.download('wordnet')\n",
    "\n",
    "import pandas as pd\n",
    "from wordcloud import WordCloud\n",
    "import matplotlib.pyplot as plt\n",
    "import seaborn as Seaborn\n",
    "import plotly as Plostly\n",
    "import bokeh as Bokeh\n",
    "\n",
    "# Dimension reduction\n",
    "from umap import UMAP\n",
    "\n",
    "# Clustering\n",
    "from hdbscan import HDBSCAN\n",
    "\n",
    "# Count vectorization\n",
    "from sklearn.feature_extraction.text import CountVectorizer\n",
    "\n",
    "# Topic model\n",
    "from bertopic import BERTopic\n",
    "\n",
    "from collections import Counter\n",
    "\n"
   ]
  },
  {
   "cell_type": "code",
   "execution_count": 2,
   "metadata": {},
   "outputs": [
    {
     "name": "stdout",
     "output_type": "stream",
     "text": [
      "       review_id                                            dislike\n",
      "0              1  Although the ship is just over a year old, the...\n",
      "1              6  A jaccuzi bath would be a good feature in the ...\n",
      "2             22                            Smell is an challenging\n",
      "3             24  The walls are too thin. I could easily hear pe...\n",
      "4             25             our room was really cold in the night.\n",
      "...          ...                                                ...\n",
      "41942     409042  The water used in our bathroom needs to be str...\n",
      "41943     409044           The sound-roof between rooms is not good\n",
      "41944     409046                   The pool could have been cleaned\n",
      "41945     409049                                          breakfast\n",
      "41946     409050                  Nothing other than my roommate ha\n",
      "\n",
      "[41947 rows x 2 columns]\n"
     ]
    }
   ],
   "source": [
    "#tải tài liệu lên\n",
    "import pandas as pd\n",
    "from sqlalchemy import create_engine\n",
    "\n",
    "# Thay đổi các thông số kết nối dựa trên cấu hình của bạn\n",
    "server = 'DESKTOP-CNQUBU5\\SLNH'\n",
    "database = 'booking'\n",
    "trusted_connection = 'yes'  # Sử dụng Windows Authentication\n",
    "\n",
    "# Tạo chuỗi kết nối\n",
    "engine = create_engine(f'mssql+pyodbc://{server}/{database}?trusted_connection={trusted_connection}&driver=ODBC+Driver+17+for+SQL+Server')\n",
    "\n",
    "# Thay đổi 'ten_bang' thành tên bảng bạn muốn truy vấn\n",
    "table_name = 'raw.review_en1'\n",
    "\n",
    "# Thực hiện truy vấn SQL và lấy dữ liệu vào DataFrame\n",
    "query = f'SELECT * FROM {table_name}'\n",
    "df = pd.read_sql(query, engine)\n",
    "\n",
    "# Hiển thị dữ liệu\n",
    "print(df)"
   ]
  },
  {
   "cell_type": "code",
   "execution_count": 3,
   "metadata": {},
   "outputs": [
    {
     "name": "stdout",
     "output_type": "stream",
     "text": [
      "<class 'pandas.core.frame.DataFrame'>\n",
      "RangeIndex: 41947 entries, 0 to 41946\n",
      "Data columns (total 2 columns):\n",
      " #   Column     Non-Null Count  Dtype \n",
      "---  ------     --------------  ----- \n",
      " 0   review_id  41947 non-null  int64 \n",
      " 1   dislike    41947 non-null  object\n",
      "dtypes: int64(1), object(1)\n",
      "memory usage: 655.6+ KB\n"
     ]
    }
   ],
   "source": [
    "# Get the dataset information\n",
    "df.info()"
   ]
  },
  {
   "cell_type": "code",
   "execution_count": 4,
   "metadata": {},
   "outputs": [
    {
     "name": "stdout",
     "output_type": "stream",
     "text": [
      "There are 179 default stopwords. They are ['i', 'me', 'my', 'myself', 'we', 'our', 'ours', 'ourselves', 'you', \"you're\", \"you've\", \"you'll\", \"you'd\", 'your', 'yours', 'yourself', 'yourselves', 'he', 'him', 'his', 'himself', 'she', \"she's\", 'her', 'hers', 'herself', 'it', \"it's\", 'its', 'itself', 'they', 'them', 'their', 'theirs', 'themselves', 'what', 'which', 'who', 'whom', 'this', 'that', \"that'll\", 'these', 'those', 'am', 'is', 'are', 'was', 'were', 'be', 'been', 'being', 'have', 'has', 'had', 'having', 'do', 'does', 'did', 'doing', 'a', 'an', 'the', 'and', 'but', 'if', 'or', 'because', 'as', 'until', 'while', 'of', 'at', 'by', 'for', 'with', 'about', 'against', 'between', 'into', 'through', 'during', 'before', 'after', 'above', 'below', 'to', 'from', 'up', 'down', 'in', 'out', 'on', 'off', 'over', 'under', 'again', 'further', 'then', 'once', 'here', 'there', 'when', 'where', 'why', 'how', 'all', 'any', 'both', 'each', 'few', 'more', 'most', 'other', 'some', 'such', 'no', 'nor', 'not', 'only', 'own', 'same', 'so', 'than', 'too', 'very', 's', 't', 'can', 'will', 'just', 'don', \"don't\", 'should', \"should've\", 'now', 'd', 'll', 'm', 'o', 're', 've', 'y', 'ain', 'aren', \"aren't\", 'couldn', \"couldn't\", 'didn', \"didn't\", 'doesn', \"doesn't\", 'hadn', \"hadn't\", 'hasn', \"hasn't\", 'haven', \"haven't\", 'isn', \"isn't\", 'ma', 'mightn', \"mightn't\", 'mustn', \"mustn't\", 'needn', \"needn't\", 'shan', \"shan't\", 'shouldn', \"shouldn't\", 'wasn', \"wasn't\", 'weren', \"weren't\", 'won', \"won't\", 'wouldn', \"wouldn't\"]\n"
     ]
    }
   ],
   "source": [
    "# NLTK English stopwords\n",
    "stopwords = nltk.corpus.stopwords.words('english')\n",
    "\n",
    "# Print out the NLTK default stopwords\n",
    "print(f'There are {len(stopwords)} default stopwords. They are {stopwords}')"
   ]
  },
  {
   "cell_type": "code",
   "execution_count": 5,
   "metadata": {},
   "outputs": [],
   "source": [
    "# Count vectorizer\n",
    "vectorizer_model = CountVectorizer(stop_words=stopwords)"
   ]
  },
  {
   "cell_type": "code",
   "execution_count": 6,
   "metadata": {},
   "outputs": [
    {
     "name": "stdout",
     "output_type": "stream",
     "text": [
      "CountVectorizer(stop_words=['i', 'me', 'my', 'myself', 'we', 'our', 'ours',\n",
      "                            'ourselves', 'you', \"you're\", \"you've\", \"you'll\",\n",
      "                            \"you'd\", 'your', 'yours', 'yourself', 'yourselves',\n",
      "                            'he', 'him', 'his', 'himself', 'she', \"she's\",\n",
      "                            'her', 'hers', 'herself', 'it', \"it's\", 'its',\n",
      "                            'itself', ...])\n"
     ]
    }
   ],
   "source": [
    "print(vectorizer_model)"
   ]
  },
  {
   "cell_type": "code",
   "execution_count": 7,
   "metadata": {},
   "outputs": [],
   "source": [
    "# Remove stopwords\n",
    "df['dislike_without_stopwords'] = df['dislike'].apply(lambda x: ' '.join([w for w in x.split() if w.lower() not in stopwords]))\n"
   ]
  },
  {
   "cell_type": "code",
   "execution_count": 8,
   "metadata": {},
   "outputs": [
    {
     "data": {
      "text/html": [
       "<div>\n",
       "<style scoped>\n",
       "    .dataframe tbody tr th:only-of-type {\n",
       "        vertical-align: middle;\n",
       "    }\n",
       "\n",
       "    .dataframe tbody tr th {\n",
       "        vertical-align: top;\n",
       "    }\n",
       "\n",
       "    .dataframe thead th {\n",
       "        text-align: right;\n",
       "    }\n",
       "</style>\n",
       "<table border=\"1\" class=\"dataframe\">\n",
       "  <thead>\n",
       "    <tr style=\"text-align: right;\">\n",
       "      <th></th>\n",
       "      <th>review_id</th>\n",
       "      <th>dislike</th>\n",
       "      <th>dislike_without_stopwords</th>\n",
       "    </tr>\n",
       "  </thead>\n",
       "  <tbody>\n",
       "    <tr>\n",
       "      <th>0</th>\n",
       "      <td>1</td>\n",
       "      <td>Although the ship is just over a year old, the...</td>\n",
       "      <td>Although ship year old, hardware showing signs...</td>\n",
       "    </tr>\n",
       "    <tr>\n",
       "      <th>1</th>\n",
       "      <td>6</td>\n",
       "      <td>A jaccuzi bath would be a good feature in the ...</td>\n",
       "      <td>jaccuzi bath would good feature gigantic bathroom</td>\n",
       "    </tr>\n",
       "    <tr>\n",
       "      <th>2</th>\n",
       "      <td>22</td>\n",
       "      <td>Smell is an challenging</td>\n",
       "      <td>Smell challenging</td>\n",
       "    </tr>\n",
       "    <tr>\n",
       "      <th>3</th>\n",
       "      <td>24</td>\n",
       "      <td>The walls are too thin. I could easily hear pe...</td>\n",
       "      <td>walls thin. could easily hear people talking, ...</td>\n",
       "    </tr>\n",
       "    <tr>\n",
       "      <th>4</th>\n",
       "      <td>25</td>\n",
       "      <td>our room was really cold in the night.</td>\n",
       "      <td>room really cold night.</td>\n",
       "    </tr>\n",
       "  </tbody>\n",
       "</table>\n",
       "</div>"
      ],
      "text/plain": [
       "   review_id                                            dislike  \\\n",
       "0          1  Although the ship is just over a year old, the...   \n",
       "1          6  A jaccuzi bath would be a good feature in the ...   \n",
       "2         22                            Smell is an challenging   \n",
       "3         24  The walls are too thin. I could easily hear pe...   \n",
       "4         25             our room was really cold in the night.   \n",
       "\n",
       "                           dislike_without_stopwords  \n",
       "0  Although ship year old, hardware showing signs...  \n",
       "1  jaccuzi bath would good feature gigantic bathroom  \n",
       "2                                  Smell challenging  \n",
       "3  walls thin. could easily hear people talking, ...  \n",
       "4                            room really cold night.  "
      ]
     },
     "execution_count": 8,
     "metadata": {},
     "output_type": "execute_result"
    }
   ],
   "source": [
    "# Take a look at the data\n",
    "df.head()"
   ]
  },
  {
   "cell_type": "code",
   "execution_count": 9,
   "metadata": {},
   "outputs": [
    {
     "name": "stdout",
     "output_type": "stream",
     "text": [
      "<class 'pandas.core.frame.DataFrame'>\n",
      "RangeIndex: 41947 entries, 0 to 41946\n",
      "Data columns (total 3 columns):\n",
      " #   Column                     Non-Null Count  Dtype \n",
      "---  ------                     --------------  ----- \n",
      " 0   review_id                  41947 non-null  int64 \n",
      " 1   dislike                    41947 non-null  object\n",
      " 2   dislike_without_stopwords  41947 non-null  object\n",
      "dtypes: int64(1), object(2)\n",
      "memory usage: 983.3+ KB\n"
     ]
    }
   ],
   "source": [
    "# Get the dataset information\n",
    "df.info()"
   ]
  },
  {
   "cell_type": "code",
   "execution_count": 10,
   "metadata": {},
   "outputs": [],
   "source": [
    "import string\n",
    "\n",
    "def remove_special_characters(text):\n",
    "    cleaned_text = text.translate(str.maketrans('', '', string.punctuation))\n",
    "    return cleaned_text"
   ]
  },
  {
   "cell_type": "code",
   "execution_count": 11,
   "metadata": {},
   "outputs": [],
   "source": [
    "df['dislike_remove_special_characters'] = df['dislike_without_stopwords'].apply(remove_special_characters)"
   ]
  },
  {
   "cell_type": "code",
   "execution_count": 12,
   "metadata": {},
   "outputs": [],
   "source": [
    "def preprocess_dislike(dislike):\n",
    "    tokens = word_tokenize(dislike.lower()) # Tách từ và chuyển thành chữ thường\n",
    "    lemmatizer = WordNetLemmatizer()\n",
    "    lemmatized_tokens = [lemmatizer.lemmatize(token) for token in tokens] # Chuẩn hóa từ\n",
    "    return lemmatized_tokens"
   ]
  },
  {
   "cell_type": "code",
   "execution_count": 13,
   "metadata": {},
   "outputs": [],
   "source": [
    "df['dislike_processed'] = df['dislike_remove_special_characters'].apply(preprocess_dislike)"
   ]
  },
  {
   "cell_type": "code",
   "execution_count": 14,
   "metadata": {},
   "outputs": [
    {
     "data": {
      "text/html": [
       "<div>\n",
       "<style scoped>\n",
       "    .dataframe tbody tr th:only-of-type {\n",
       "        vertical-align: middle;\n",
       "    }\n",
       "\n",
       "    .dataframe tbody tr th {\n",
       "        vertical-align: top;\n",
       "    }\n",
       "\n",
       "    .dataframe thead th {\n",
       "        text-align: right;\n",
       "    }\n",
       "</style>\n",
       "<table border=\"1\" class=\"dataframe\">\n",
       "  <thead>\n",
       "    <tr style=\"text-align: right;\">\n",
       "      <th></th>\n",
       "      <th>review_id</th>\n",
       "      <th>dislike</th>\n",
       "      <th>dislike_without_stopwords</th>\n",
       "      <th>dislike_remove_special_characters</th>\n",
       "      <th>dislike_processed</th>\n",
       "    </tr>\n",
       "  </thead>\n",
       "  <tbody>\n",
       "    <tr>\n",
       "      <th>0</th>\n",
       "      <td>1</td>\n",
       "      <td>Although the ship is just over a year old, the...</td>\n",
       "      <td>Although ship year old, hardware showing signs...</td>\n",
       "      <td>Although ship year old hardware showing signs ...</td>\n",
       "      <td>[although, ship, year, old, hardware, showing,...</td>\n",
       "    </tr>\n",
       "    <tr>\n",
       "      <th>1</th>\n",
       "      <td>6</td>\n",
       "      <td>A jaccuzi bath would be a good feature in the ...</td>\n",
       "      <td>jaccuzi bath would good feature gigantic bathroom</td>\n",
       "      <td>jaccuzi bath would good feature gigantic bathroom</td>\n",
       "      <td>[jaccuzi, bath, would, good, feature, gigantic...</td>\n",
       "    </tr>\n",
       "    <tr>\n",
       "      <th>2</th>\n",
       "      <td>22</td>\n",
       "      <td>Smell is an challenging</td>\n",
       "      <td>Smell challenging</td>\n",
       "      <td>Smell challenging</td>\n",
       "      <td>[smell, challenging]</td>\n",
       "    </tr>\n",
       "    <tr>\n",
       "      <th>3</th>\n",
       "      <td>24</td>\n",
       "      <td>The walls are too thin. I could easily hear pe...</td>\n",
       "      <td>walls thin. could easily hear people talking, ...</td>\n",
       "      <td>walls thin could easily hear people talking la...</td>\n",
       "      <td>[wall, thin, could, easily, hear, people, talk...</td>\n",
       "    </tr>\n",
       "    <tr>\n",
       "      <th>4</th>\n",
       "      <td>25</td>\n",
       "      <td>our room was really cold in the night.</td>\n",
       "      <td>room really cold night.</td>\n",
       "      <td>room really cold night</td>\n",
       "      <td>[room, really, cold, night]</td>\n",
       "    </tr>\n",
       "  </tbody>\n",
       "</table>\n",
       "</div>"
      ],
      "text/plain": [
       "   review_id                                            dislike  \\\n",
       "0          1  Although the ship is just over a year old, the...   \n",
       "1          6  A jaccuzi bath would be a good feature in the ...   \n",
       "2         22                            Smell is an challenging   \n",
       "3         24  The walls are too thin. I could easily hear pe...   \n",
       "4         25             our room was really cold in the night.   \n",
       "\n",
       "                           dislike_without_stopwords  \\\n",
       "0  Although ship year old, hardware showing signs...   \n",
       "1  jaccuzi bath would good feature gigantic bathroom   \n",
       "2                                  Smell challenging   \n",
       "3  walls thin. could easily hear people talking, ...   \n",
       "4                            room really cold night.   \n",
       "\n",
       "                   dislike_remove_special_characters  \\\n",
       "0  Although ship year old hardware showing signs ...   \n",
       "1  jaccuzi bath would good feature gigantic bathroom   \n",
       "2                                  Smell challenging   \n",
       "3  walls thin could easily hear people talking la...   \n",
       "4                             room really cold night   \n",
       "\n",
       "                                   dislike_processed  \n",
       "0  [although, ship, year, old, hardware, showing,...  \n",
       "1  [jaccuzi, bath, would, good, feature, gigantic...  \n",
       "2                               [smell, challenging]  \n",
       "3  [wall, thin, could, easily, hear, people, talk...  \n",
       "4                        [room, really, cold, night]  "
      ]
     },
     "execution_count": 14,
     "metadata": {},
     "output_type": "execute_result"
    }
   ],
   "source": [
    "df.head()"
   ]
  },
  {
   "cell_type": "code",
   "execution_count": 15,
   "metadata": {},
   "outputs": [],
   "source": [
    "umap_seed = 42 \n",
    "# Initiate UMAP\n",
    "umap = UMAP(n_neighbors=15,\n",
    "            n_components=5,\n",
    "            min_dist=0.0,\n",
    "            metric='cosine',\n",
    "            low_memory=False,\n",
    "            random_state=umap_seed)  # Đặt hạt giống cố định cho UMAP\n",
    "\n",
    "# Khởi tạo BERTopic với các tham số cố định\n",
    "topic_model = BERTopic(umap_model=umap,  # Truyền umap thay vì umap_model\n",
    "                       vectorizer_model=vectorizer_model,\n",
    "                       min_topic_size=200,\n",
    "                       top_n_words=10,\n",
    "                       language=\"english\",  \n",
    "                       calculate_probabilities=True)\n"
   ]
  },
  {
   "cell_type": "code",
   "execution_count": 16,
   "metadata": {},
   "outputs": [],
   "source": [
    "if hasattr(topic_model, 'umap_model') and hasattr(topic_model.umap_model, 'random_state'):\n",
    "    topic_model.umap_model.random_state = umap_seed"
   ]
  },
  {
   "cell_type": "code",
   "execution_count": 17,
   "metadata": {},
   "outputs": [],
   "source": [
    "# Run BERTopic model\n",
    "topics = topic_model.fit_transform(df['dislike_remove_special_characters'])\n"
   ]
  },
  {
   "cell_type": "code",
   "execution_count": 36,
   "metadata": {},
   "outputs": [
    {
     "data": {
      "text/html": [
       "<div>\n",
       "<style scoped>\n",
       "    .dataframe tbody tr th:only-of-type {\n",
       "        vertical-align: middle;\n",
       "    }\n",
       "\n",
       "    .dataframe tbody tr th {\n",
       "        vertical-align: top;\n",
       "    }\n",
       "\n",
       "    .dataframe thead th {\n",
       "        text-align: right;\n",
       "    }\n",
       "</style>\n",
       "<table border=\"1\" class=\"dataframe\">\n",
       "  <thead>\n",
       "    <tr style=\"text-align: right;\">\n",
       "      <th></th>\n",
       "      <th>Topic</th>\n",
       "      <th>Count</th>\n",
       "      <th>Name</th>\n",
       "      <th>Representation</th>\n",
       "      <th>Representative_Docs</th>\n",
       "    </tr>\n",
       "  </thead>\n",
       "  <tbody>\n",
       "    <tr>\n",
       "      <th>0</th>\n",
       "      <td>-1</td>\n",
       "      <td>12880</td>\n",
       "      <td>-1_room_hotel_staff_breakfast</td>\n",
       "      <td>[room, hotel, staff, breakfast, nothing, one, ...</td>\n",
       "      <td>[room big enough facilities old bathtub high u...</td>\n",
       "    </tr>\n",
       "    <tr>\n",
       "      <th>1</th>\n",
       "      <td>0</td>\n",
       "      <td>4775</td>\n",
       "      <td>0_breakfast_food_restaurant_buffet</td>\n",
       "      <td>[breakfast, food, restaurant, buffet, coffee, ...</td>\n",
       "      <td>[Breakfast buffet, options buffet dinner break...</td>\n",
       "    </tr>\n",
       "    <tr>\n",
       "      <th>2</th>\n",
       "      <td>1</td>\n",
       "      <td>3800</td>\n",
       "      <td>1_noisy_noise_loud_hear</td>\n",
       "      <td>[noisy, noise, loud, hear, night, music, room,...</td>\n",
       "      <td>[building new hotel next it noisy hear everyth...</td>\n",
       "    </tr>\n",
       "    <tr>\n",
       "      <th>3</th>\n",
       "      <td>2</td>\n",
       "      <td>1797</td>\n",
       "      <td>2_smell_room_clean_towels</td>\n",
       "      <td>[smell, room, clean, towels, bathroom, dirty, ...</td>\n",
       "      <td>[Smell bathroom, smell room, smell room]</td>\n",
       "    </tr>\n",
       "    <tr>\n",
       "      <th>4</th>\n",
       "      <td>3</td>\n",
       "      <td>1725</td>\n",
       "      <td>3_far_location_taxi_town</td>\n",
       "      <td>[far, location, taxi, town, city, center, walk...</td>\n",
       "      <td>[Location little bit far center, location litt...</td>\n",
       "    </tr>\n",
       "    <tr>\n",
       "      <th>5</th>\n",
       "      <td>4</td>\n",
       "      <td>1670</td>\n",
       "      <td>4_hotel_us_room_staff</td>\n",
       "      <td>[hotel, us, room, staff, check, asked, pay, on...</td>\n",
       "      <td>[4 stayed room 906 absolutely WIFI Room pretty...</td>\n",
       "    </tr>\n",
       "    <tr>\n",
       "      <th>6</th>\n",
       "      <td>5</td>\n",
       "      <td>1402</td>\n",
       "      <td>5_nothing_everything_stay_longer</td>\n",
       "      <td>[nothing, everything, stay, longer, anything, ...</td>\n",
       "      <td>[Nothing Everything great, Nothing Everything ...</td>\n",
       "    </tr>\n",
       "    <tr>\n",
       "      <th>7</th>\n",
       "      <td>6</td>\n",
       "      <td>1321</td>\n",
       "      <td>6_shower_bathroom_toilet_water</td>\n",
       "      <td>[shower, bathroom, toilet, water, floor, wet, ...</td>\n",
       "      <td>[Shower, shower room, Shower room]</td>\n",
       "    </tr>\n",
       "    <tr>\n",
       "      <th>8</th>\n",
       "      <td>7</td>\n",
       "      <td>1168</td>\n",
       "      <td>7_pool_swimming_area_bar</td>\n",
       "      <td>[pool, swimming, area, bar, small, rooftop, su...</td>\n",
       "      <td>[pool, Pool, pool]</td>\n",
       "    </tr>\n",
       "    <tr>\n",
       "      <th>9</th>\n",
       "      <td>8</td>\n",
       "      <td>1114</td>\n",
       "      <td>8_bed_hard_beds_mattress</td>\n",
       "      <td>[bed, hard, beds, mattress, pillows, comfortab...</td>\n",
       "      <td>[Bed hard, bed hard, bed hard]</td>\n",
       "    </tr>\n",
       "    <tr>\n",
       "      <th>10</th>\n",
       "      <td>9</td>\n",
       "      <td>983</td>\n",
       "      <td>9_wifi_tv_internet_weak</td>\n",
       "      <td>[wifi, tv, internet, weak, connection, slow, w...</td>\n",
       "      <td>[WIFI room good, wifi, Wifi]</td>\n",
       "    </tr>\n",
       "    <tr>\n",
       "      <th>11</th>\n",
       "      <td>10</td>\n",
       "      <td>947</td>\n",
       "      <td>10_window_view_light_room</td>\n",
       "      <td>[window, view, light, room, windows, dark, lig...</td>\n",
       "      <td>[window room outside view natural light, view ...</td>\n",
       "    </tr>\n",
       "    <tr>\n",
       "      <th>12</th>\n",
       "      <td>11</td>\n",
       "      <td>846</td>\n",
       "      <td>11_mosquitoes_ants_mosquito_mosquitos</td>\n",
       "      <td>[mosquitoes, ants, mosquito, mosquitos, bugs, ...</td>\n",
       "      <td>[mosquitoes apparently bed bugs room bite mark...</td>\n",
       "    </tr>\n",
       "    <tr>\n",
       "      <th>13</th>\n",
       "      <td>12</td>\n",
       "      <td>738</td>\n",
       "      <td>12_air_ac_aircon_cold</td>\n",
       "      <td>[air, ac, aircon, cold, conditioning, conditio...</td>\n",
       "      <td>[air conditioner hot, AC seem blow hot air coo...</td>\n",
       "    </tr>\n",
       "    <tr>\n",
       "      <th>14</th>\n",
       "      <td>13</td>\n",
       "      <td>682</td>\n",
       "      <td>13_rooms_room_small_bit</td>\n",
       "      <td>[rooms, room, small, bit, smaller, size, space...</td>\n",
       "      <td>[Rooms small, small rooms, rooms small]</td>\n",
       "    </tr>\n",
       "    <tr>\n",
       "      <th>15</th>\n",
       "      <td>14</td>\n",
       "      <td>583</td>\n",
       "      <td>14_hot_water_shower_cold</td>\n",
       "      <td>[hot, water, shower, cold, warm, temperature, ...</td>\n",
       "      <td>[hot water shower other rooms had, Water hot r...</td>\n",
       "    </tr>\n",
       "    <tr>\n",
       "      <th>16</th>\n",
       "      <td>15</td>\n",
       "      <td>565</td>\n",
       "      <td>15_elevator_lift_stairs_floor</td>\n",
       "      <td>[elevator, lift, stairs, floor, luggage, eleva...</td>\n",
       "      <td>[elevator, Elevator, elevator]</td>\n",
       "    </tr>\n",
       "    <tr>\n",
       "      <th>17</th>\n",
       "      <td>16</td>\n",
       "      <td>551</td>\n",
       "      <td>16_beach_sea_hotel_sand</td>\n",
       "      <td>[beach, sea, hotel, sand, walk, trash, far, ac...</td>\n",
       "      <td>[beach good, beach, Beach]</td>\n",
       "    </tr>\n",
       "    <tr>\n",
       "      <th>18</th>\n",
       "      <td>17</td>\n",
       "      <td>481</td>\n",
       "      <td>17_english_speak_staff_communicate</td>\n",
       "      <td>[english, speak, staff, communicate, communica...</td>\n",
       "      <td>[staff speak English, staff speak english, sta...</td>\n",
       "    </tr>\n",
       "    <tr>\n",
       "      <th>19</th>\n",
       "      <td>18</td>\n",
       "      <td>451</td>\n",
       "      <td>18_nothing_say_really_particular</td>\n",
       "      <td>[nothing, say, really, particular, much, nothi...</td>\n",
       "      <td>[Nothing , Nothing all, Nothing]</td>\n",
       "    </tr>\n",
       "    <tr>\n",
       "      <th>20</th>\n",
       "      <td>19</td>\n",
       "      <td>409</td>\n",
       "      <td>19_staff_friendly_helpful_reception</td>\n",
       "      <td>[staff, friendly, helpful, reception, staffs, ...</td>\n",
       "      <td>[staff, staff, staff]</td>\n",
       "    </tr>\n",
       "    <tr>\n",
       "      <th>21</th>\n",
       "      <td>20</td>\n",
       "      <td>404</td>\n",
       "      <td>20_hotel_nothing_like_homestay</td>\n",
       "      <td>[hotel, nothing, like, homestay, fault, stay, ...</td>\n",
       "      <td>[nothing didn’t like hotel, Nothing don’t like...</td>\n",
       "    </tr>\n",
       "    <tr>\n",
       "      <th>22</th>\n",
       "      <td>21</td>\n",
       "      <td>328</td>\n",
       "      <td>21_price_fault_value_money</td>\n",
       "      <td>[price, fault, value, money, nothing, cant, ex...</td>\n",
       "      <td>[price nothing, could fault property price, Ca...</td>\n",
       "    </tr>\n",
       "    <tr>\n",
       "      <th>23</th>\n",
       "      <td>22</td>\n",
       "      <td>294</td>\n",
       "      <td>22_perfect_nothing_everything_note</td>\n",
       "      <td>[perfect, nothing, everything, note, flawless,...</td>\n",
       "      <td>[Nothing everything perfect, Nothing everythin...</td>\n",
       "    </tr>\n",
       "    <tr>\n",
       "      <th>24</th>\n",
       "      <td>23</td>\n",
       "      <td>292</td>\n",
       "      <td>23_nil_great_excellent_far</td>\n",
       "      <td>[nil, great, excellent, far, lovely, nothing, ...</td>\n",
       "      <td>[NIL, Nil, Nil]</td>\n",
       "    </tr>\n",
       "    <tr>\n",
       "      <th>25</th>\n",
       "      <td>24</td>\n",
       "      <td>279</td>\n",
       "      <td>24_good_fine_everything_everythings</td>\n",
       "      <td>[good, fine, everything, everythings, well, ye...</td>\n",
       "      <td>[good, good, good]</td>\n",
       "    </tr>\n",
       "    <tr>\n",
       "      <th>26</th>\n",
       "      <td>25</td>\n",
       "      <td>274</td>\n",
       "      <td>25_perfect_everything_nothing_good</td>\n",
       "      <td>[perfect, everything, nothing, good, really, a...</td>\n",
       "      <td>[Everything perfect , Everything perfect, Ever...</td>\n",
       "    </tr>\n",
       "    <tr>\n",
       "      <th>27</th>\n",
       "      <td>26</td>\n",
       "      <td>258</td>\n",
       "      <td>26_boat_cruise_bay_tour</td>\n",
       "      <td>[boat, cruise, bay, tour, cruises, activities,...</td>\n",
       "      <td>[cruise ie main big boat moved less mostly tra...</td>\n",
       "    </tr>\n",
       "    <tr>\n",
       "      <th>28</th>\n",
       "      <td>27</td>\n",
       "      <td>254</td>\n",
       "      <td>27_vietnamese_vietnam_food_breakfast</td>\n",
       "      <td>[vietnamese, vietnam, food, breakfast, western...</td>\n",
       "      <td>[Food quite Western would liked Vietnamese foo...</td>\n",
       "    </tr>\n",
       "    <tr>\n",
       "      <th>29</th>\n",
       "      <td>28</td>\n",
       "      <td>233</td>\n",
       "      <td>28_water_bottles_plastic_bottle</td>\n",
       "      <td>[water, bottles, plastic, bottle, free, refill...</td>\n",
       "      <td>[water plastic bottles refill station, given 2...</td>\n",
       "    </tr>\n",
       "    <tr>\n",
       "      <th>30</th>\n",
       "      <td>29</td>\n",
       "      <td>228</td>\n",
       "      <td>29_everything_great_ok_excellent</td>\n",
       "      <td>[everything, great, ok, excellent, wonderful, ...</td>\n",
       "      <td>[Everything great, Everything great , Everythi...</td>\n",
       "    </tr>\n",
       "    <tr>\n",
       "      <th>31</th>\n",
       "      <td>30</td>\n",
       "      <td>215</td>\n",
       "      <td>30_vegetarian_options_vegan_breakfast</td>\n",
       "      <td>[vegetarian, options, vegan, breakfast, vegeta...</td>\n",
       "      <td>[many vegetarian food options, Vegetarian opti...</td>\n",
       "    </tr>\n",
       "  </tbody>\n",
       "</table>\n",
       "</div>"
      ],
      "text/plain": [
       "    Topic  Count                                   Name  \\\n",
       "0      -1  12880          -1_room_hotel_staff_breakfast   \n",
       "1       0   4775     0_breakfast_food_restaurant_buffet   \n",
       "2       1   3800                1_noisy_noise_loud_hear   \n",
       "3       2   1797              2_smell_room_clean_towels   \n",
       "4       3   1725               3_far_location_taxi_town   \n",
       "5       4   1670                  4_hotel_us_room_staff   \n",
       "6       5   1402       5_nothing_everything_stay_longer   \n",
       "7       6   1321         6_shower_bathroom_toilet_water   \n",
       "8       7   1168               7_pool_swimming_area_bar   \n",
       "9       8   1114               8_bed_hard_beds_mattress   \n",
       "10      9    983                9_wifi_tv_internet_weak   \n",
       "11     10    947              10_window_view_light_room   \n",
       "12     11    846  11_mosquitoes_ants_mosquito_mosquitos   \n",
       "13     12    738                  12_air_ac_aircon_cold   \n",
       "14     13    682                13_rooms_room_small_bit   \n",
       "15     14    583               14_hot_water_shower_cold   \n",
       "16     15    565          15_elevator_lift_stairs_floor   \n",
       "17     16    551                16_beach_sea_hotel_sand   \n",
       "18     17    481     17_english_speak_staff_communicate   \n",
       "19     18    451       18_nothing_say_really_particular   \n",
       "20     19    409    19_staff_friendly_helpful_reception   \n",
       "21     20    404         20_hotel_nothing_like_homestay   \n",
       "22     21    328             21_price_fault_value_money   \n",
       "23     22    294     22_perfect_nothing_everything_note   \n",
       "24     23    292             23_nil_great_excellent_far   \n",
       "25     24    279    24_good_fine_everything_everythings   \n",
       "26     25    274     25_perfect_everything_nothing_good   \n",
       "27     26    258                26_boat_cruise_bay_tour   \n",
       "28     27    254   27_vietnamese_vietnam_food_breakfast   \n",
       "29     28    233        28_water_bottles_plastic_bottle   \n",
       "30     29    228       29_everything_great_ok_excellent   \n",
       "31     30    215  30_vegetarian_options_vegan_breakfast   \n",
       "\n",
       "                                       Representation  \\\n",
       "0   [room, hotel, staff, breakfast, nothing, one, ...   \n",
       "1   [breakfast, food, restaurant, buffet, coffee, ...   \n",
       "2   [noisy, noise, loud, hear, night, music, room,...   \n",
       "3   [smell, room, clean, towels, bathroom, dirty, ...   \n",
       "4   [far, location, taxi, town, city, center, walk...   \n",
       "5   [hotel, us, room, staff, check, asked, pay, on...   \n",
       "6   [nothing, everything, stay, longer, anything, ...   \n",
       "7   [shower, bathroom, toilet, water, floor, wet, ...   \n",
       "8   [pool, swimming, area, bar, small, rooftop, su...   \n",
       "9   [bed, hard, beds, mattress, pillows, comfortab...   \n",
       "10  [wifi, tv, internet, weak, connection, slow, w...   \n",
       "11  [window, view, light, room, windows, dark, lig...   \n",
       "12  [mosquitoes, ants, mosquito, mosquitos, bugs, ...   \n",
       "13  [air, ac, aircon, cold, conditioning, conditio...   \n",
       "14  [rooms, room, small, bit, smaller, size, space...   \n",
       "15  [hot, water, shower, cold, warm, temperature, ...   \n",
       "16  [elevator, lift, stairs, floor, luggage, eleva...   \n",
       "17  [beach, sea, hotel, sand, walk, trash, far, ac...   \n",
       "18  [english, speak, staff, communicate, communica...   \n",
       "19  [nothing, say, really, particular, much, nothi...   \n",
       "20  [staff, friendly, helpful, reception, staffs, ...   \n",
       "21  [hotel, nothing, like, homestay, fault, stay, ...   \n",
       "22  [price, fault, value, money, nothing, cant, ex...   \n",
       "23  [perfect, nothing, everything, note, flawless,...   \n",
       "24  [nil, great, excellent, far, lovely, nothing, ...   \n",
       "25  [good, fine, everything, everythings, well, ye...   \n",
       "26  [perfect, everything, nothing, good, really, a...   \n",
       "27  [boat, cruise, bay, tour, cruises, activities,...   \n",
       "28  [vietnamese, vietnam, food, breakfast, western...   \n",
       "29  [water, bottles, plastic, bottle, free, refill...   \n",
       "30  [everything, great, ok, excellent, wonderful, ...   \n",
       "31  [vegetarian, options, vegan, breakfast, vegeta...   \n",
       "\n",
       "                                  Representative_Docs  \n",
       "0   [room big enough facilities old bathtub high u...  \n",
       "1   [Breakfast buffet, options buffet dinner break...  \n",
       "2   [building new hotel next it noisy hear everyth...  \n",
       "3            [Smell bathroom, smell room, smell room]  \n",
       "4   [Location little bit far center, location litt...  \n",
       "5   [4 stayed room 906 absolutely WIFI Room pretty...  \n",
       "6   [Nothing Everything great, Nothing Everything ...  \n",
       "7                  [Shower, shower room, Shower room]  \n",
       "8                                  [pool, Pool, pool]  \n",
       "9                      [Bed hard, bed hard, bed hard]  \n",
       "10                       [WIFI room good, wifi, Wifi]  \n",
       "11  [window room outside view natural light, view ...  \n",
       "12  [mosquitoes apparently bed bugs room bite mark...  \n",
       "13  [air conditioner hot, AC seem blow hot air coo...  \n",
       "14            [Rooms small, small rooms, rooms small]  \n",
       "15  [hot water shower other rooms had, Water hot r...  \n",
       "16                     [elevator, Elevator, elevator]  \n",
       "17                         [beach good, beach, Beach]  \n",
       "18  [staff speak English, staff speak english, sta...  \n",
       "19                   [Nothing , Nothing all, Nothing]  \n",
       "20                              [staff, staff, staff]  \n",
       "21  [nothing didn’t like hotel, Nothing don’t like...  \n",
       "22  [price nothing, could fault property price, Ca...  \n",
       "23  [Nothing everything perfect, Nothing everythin...  \n",
       "24                                    [NIL, Nil, Nil]  \n",
       "25                                 [good, good, good]  \n",
       "26  [Everything perfect , Everything perfect, Ever...  \n",
       "27  [cruise ie main big boat moved less mostly tra...  \n",
       "28  [Food quite Western would liked Vietnamese foo...  \n",
       "29  [water plastic bottles refill station, given 2...  \n",
       "30  [Everything great, Everything great , Everythi...  \n",
       "31  [many vegetarian food options, Vegetarian opti...  "
      ]
     },
     "execution_count": 36,
     "metadata": {},
     "output_type": "execute_result"
    }
   ],
   "source": [
    "# Get the list of topics\n",
    "topic_model.get_topic_info()\n"
   ]
  },
  {
   "cell_type": "code",
   "execution_count": 19,
   "metadata": {},
   "outputs": [
    {
     "name": "stdout",
     "output_type": "stream",
     "text": [
      "    Topic  Count                                   Name  \\\n",
      "0      -1  12880          -1_room_hotel_staff_breakfast   \n",
      "1       0   4775     0_breakfast_food_restaurant_buffet   \n",
      "2       1   3800                1_noisy_noise_loud_hear   \n",
      "3       2   1797              2_smell_room_clean_towels   \n",
      "4       3   1725               3_far_location_taxi_town   \n",
      "5       4   1670                  4_hotel_us_room_staff   \n",
      "6       5   1402       5_nothing_everything_stay_longer   \n",
      "7       6   1321         6_shower_bathroom_toilet_water   \n",
      "8       7   1168               7_pool_swimming_area_bar   \n",
      "9       8   1114               8_bed_hard_beds_mattress   \n",
      "10      9    983                9_wifi_tv_internet_weak   \n",
      "11     10    947              10_window_view_light_room   \n",
      "12     11    846  11_mosquitoes_ants_mosquito_mosquitos   \n",
      "13     12    738                  12_air_ac_aircon_cold   \n",
      "14     13    682                13_rooms_room_small_bit   \n",
      "15     14    583               14_hot_water_shower_cold   \n",
      "16     15    565          15_elevator_lift_stairs_floor   \n",
      "17     16    551                16_beach_sea_hotel_sand   \n",
      "18     17    481     17_english_speak_staff_communicate   \n",
      "19     18    451       18_nothing_say_really_particular   \n",
      "20     19    409    19_staff_friendly_helpful_reception   \n",
      "21     20    404         20_hotel_nothing_like_homestay   \n",
      "22     21    328             21_price_fault_value_money   \n",
      "23     22    294     22_perfect_nothing_everything_note   \n",
      "24     23    292             23_nil_great_excellent_far   \n",
      "25     24    279    24_good_fine_everything_everythings   \n",
      "26     25    274     25_perfect_everything_nothing_good   \n",
      "27     26    258                26_boat_cruise_bay_tour   \n",
      "28     27    254   27_vietnamese_vietnam_food_breakfast   \n",
      "29     28    233        28_water_bottles_plastic_bottle   \n",
      "30     29    228       29_everything_great_ok_excellent   \n",
      "31     30    215  30_vegetarian_options_vegan_breakfast   \n",
      "\n",
      "                                       Representation  \\\n",
      "0   [room, hotel, staff, breakfast, nothing, one, ...   \n",
      "1   [breakfast, food, restaurant, buffet, coffee, ...   \n",
      "2   [noisy, noise, loud, hear, night, music, room,...   \n",
      "3   [smell, room, clean, towels, bathroom, dirty, ...   \n",
      "4   [far, location, taxi, town, city, center, walk...   \n",
      "5   [hotel, us, room, staff, check, asked, pay, on...   \n",
      "6   [nothing, everything, stay, longer, anything, ...   \n",
      "7   [shower, bathroom, toilet, water, floor, wet, ...   \n",
      "8   [pool, swimming, area, bar, small, rooftop, su...   \n",
      "9   [bed, hard, beds, mattress, pillows, comfortab...   \n",
      "10  [wifi, tv, internet, weak, connection, slow, w...   \n",
      "11  [window, view, light, room, windows, dark, lig...   \n",
      "12  [mosquitoes, ants, mosquito, mosquitos, bugs, ...   \n",
      "13  [air, ac, aircon, cold, conditioning, conditio...   \n",
      "14  [rooms, room, small, bit, smaller, size, space...   \n",
      "15  [hot, water, shower, cold, warm, temperature, ...   \n",
      "16  [elevator, lift, stairs, floor, luggage, eleva...   \n",
      "17  [beach, sea, hotel, sand, walk, trash, far, ac...   \n",
      "18  [english, speak, staff, communicate, communica...   \n",
      "19  [nothing, say, really, particular, much, nothi...   \n",
      "20  [staff, friendly, helpful, reception, staffs, ...   \n",
      "21  [hotel, nothing, like, homestay, fault, stay, ...   \n",
      "22  [price, fault, value, money, nothing, cant, ex...   \n",
      "23  [perfect, nothing, everything, note, flawless,...   \n",
      "24  [nil, great, excellent, far, lovely, nothing, ...   \n",
      "25  [good, fine, everything, everythings, well, ye...   \n",
      "26  [perfect, everything, nothing, good, really, a...   \n",
      "27  [boat, cruise, bay, tour, cruises, activities,...   \n",
      "28  [vietnamese, vietnam, food, breakfast, western...   \n",
      "29  [water, bottles, plastic, bottle, free, refill...   \n",
      "30  [everything, great, ok, excellent, wonderful, ...   \n",
      "31  [vegetarian, options, vegan, breakfast, vegeta...   \n",
      "\n",
      "                                  Representative_Docs  \n",
      "0   [room big enough facilities old bathtub high u...  \n",
      "1   [Breakfast buffet, options buffet dinner break...  \n",
      "2   [building new hotel next it noisy hear everyth...  \n",
      "3            [Smell bathroom, smell room, smell room]  \n",
      "4   [Location little bit far center, location litt...  \n",
      "5   [4 stayed room 906 absolutely WIFI Room pretty...  \n",
      "6   [Nothing Everything great, Nothing Everything ...  \n",
      "7                  [Shower, shower room, Shower room]  \n",
      "8                                  [pool, Pool, pool]  \n",
      "9                      [Bed hard, bed hard, bed hard]  \n",
      "10                       [WIFI room good, wifi, Wifi]  \n",
      "11  [window room outside view natural light, view ...  \n",
      "12  [mosquitoes apparently bed bugs room bite mark...  \n",
      "13  [air conditioner hot, AC seem blow hot air coo...  \n",
      "14            [Rooms small, small rooms, rooms small]  \n",
      "15  [hot water shower other rooms had, Water hot r...  \n",
      "16                     [elevator, Elevator, elevator]  \n",
      "17                         [beach good, beach, Beach]  \n",
      "18  [staff speak English, staff speak english, sta...  \n",
      "19                   [Nothing , Nothing all, Nothing]  \n",
      "20                              [staff, staff, staff]  \n",
      "21  [nothing didn’t like hotel, Nothing don’t like...  \n",
      "22  [price nothing, could fault property price, Ca...  \n",
      "23  [Nothing everything perfect, Nothing everythin...  \n",
      "24                                    [NIL, Nil, Nil]  \n",
      "25                                 [good, good, good]  \n",
      "26  [Everything perfect , Everything perfect, Ever...  \n",
      "27  [cruise ie main big boat moved less mostly tra...  \n",
      "28  [Food quite Western would liked Vietnamese foo...  \n",
      "29  [water plastic bottles refill station, given 2...  \n",
      "30  [Everything great, Everything great , Everythi...  \n",
      "31  [many vegetarian food options, Vegetarian opti...  \n"
     ]
    }
   ],
   "source": [
    "# Get the list of topics\n",
    "topic_info = topic_model.get_topic_info()\n",
    "\n",
    "# Display the DataFrame\n",
    "print(topic_info)\n",
    "\n",
    "topic_info.to_csv('topic_info.csv', index=False)"
   ]
  },
  {
   "cell_type": "code",
   "execution_count": 20,
   "metadata": {},
   "outputs": [
    {
     "name": "stderr",
     "output_type": "stream",
     "text": [
      "100%|██████████| 30/30 [00:00<00:00, 54.56it/s]\n"
     ]
    },
    {
     "data": {
      "text/html": [
       "<div>\n",
       "<style scoped>\n",
       "    .dataframe tbody tr th:only-of-type {\n",
       "        vertical-align: middle;\n",
       "    }\n",
       "\n",
       "    .dataframe tbody tr th {\n",
       "        vertical-align: top;\n",
       "    }\n",
       "\n",
       "    .dataframe thead th {\n",
       "        text-align: right;\n",
       "    }\n",
       "</style>\n",
       "<table border=\"1\" class=\"dataframe\">\n",
       "  <thead>\n",
       "    <tr style=\"text-align: right;\">\n",
       "      <th></th>\n",
       "      <th>Parent_ID</th>\n",
       "      <th>Parent_Name</th>\n",
       "      <th>Topics</th>\n",
       "      <th>Child_Left_ID</th>\n",
       "      <th>Child_Left_Name</th>\n",
       "      <th>Child_Right_ID</th>\n",
       "      <th>Child_Right_Name</th>\n",
       "      <th>Distance</th>\n",
       "    </tr>\n",
       "  </thead>\n",
       "  <tbody>\n",
       "    <tr>\n",
       "      <th>29</th>\n",
       "      <td>60</td>\n",
       "      <td>room_breakfast_hotel_bit_could</td>\n",
       "      <td>[0, 1, 2, 3, 4, 5, 6, 7, 8, 9, 10, 11, 12, 13,...</td>\n",
       "      <td>57</td>\n",
       "      <td>nothing_everything_perfect_great_good</td>\n",
       "      <td>59</td>\n",
       "      <td>room_breakfast_hotel_bit_could</td>\n",
       "      <td>1.877628</td>\n",
       "    </tr>\n",
       "    <tr>\n",
       "      <th>28</th>\n",
       "      <td>59</td>\n",
       "      <td>room_breakfast_hotel_bit_could</td>\n",
       "      <td>[0, 1, 2, 3, 4, 6, 7, 8, 9, 10, 11, 12, 13, 14...</td>\n",
       "      <td>55</td>\n",
       "      <td>room_hotel_bit_water_night</td>\n",
       "      <td>58</td>\n",
       "      <td>breakfast_food_restaurant_staff_options</td>\n",
       "      <td>1.198818</td>\n",
       "    </tr>\n",
       "    <tr>\n",
       "      <th>27</th>\n",
       "      <td>58</td>\n",
       "      <td>breakfast_food_restaurant_staff_options</td>\n",
       "      <td>[0, 17, 19, 23, 27, 30]</td>\n",
       "      <td>41</td>\n",
       "      <td>breakfast_food_restaurant_options_buffet</td>\n",
       "      <td>56</td>\n",
       "      <td>english_staff_speak_nil_communicate</td>\n",
       "      <td>1.145814</td>\n",
       "    </tr>\n",
       "    <tr>\n",
       "      <th>26</th>\n",
       "      <td>57</td>\n",
       "      <td>nothing_everything_perfect_great_good</td>\n",
       "      <td>[5, 18, 20, 21, 22, 24, 25, 29]</td>\n",
       "      <td>53</td>\n",
       "      <td>perfect_everything_nothing_good_great</td>\n",
       "      <td>46</td>\n",
       "      <td>nothing_everything_stay_anything_say</td>\n",
       "      <td>1.139374</td>\n",
       "    </tr>\n",
       "    <tr>\n",
       "      <th>25</th>\n",
       "      <td>56</td>\n",
       "      <td>english_staff_speak_nil_communicate</td>\n",
       "      <td>[17, 19, 23]</td>\n",
       "      <td>40</td>\n",
       "      <td>english_staff_speak_communicate_friendly</td>\n",
       "      <td>23</td>\n",
       "      <td>nil_great_excellent_far_lovely</td>\n",
       "      <td>1.075837</td>\n",
       "    </tr>\n",
       "    <tr>\n",
       "      <th>24</th>\n",
       "      <td>55</td>\n",
       "      <td>room_hotel_bit_water_night</td>\n",
       "      <td>[1, 2, 3, 4, 6, 7, 8, 9, 10, 11, 12, 13, 14, 1...</td>\n",
       "      <td>39</td>\n",
       "      <td>water_hot_shower_bottles_cold</td>\n",
       "      <td>54</td>\n",
       "      <td>room_hotel_bit_pool_night</td>\n",
       "      <td>1.043659</td>\n",
       "    </tr>\n",
       "    <tr>\n",
       "      <th>23</th>\n",
       "      <td>54</td>\n",
       "      <td>room_hotel_bit_pool_night</td>\n",
       "      <td>[1, 2, 3, 4, 6, 7, 8, 9, 10, 11, 12, 13, 15, 1...</td>\n",
       "      <td>52</td>\n",
       "      <td>room_noisy_bed_hotel_night</td>\n",
       "      <td>50</td>\n",
       "      <td>pool_beach_far_location_swimming</td>\n",
       "      <td>1.019014</td>\n",
       "    </tr>\n",
       "    <tr>\n",
       "      <th>22</th>\n",
       "      <td>53</td>\n",
       "      <td>perfect_everything_nothing_good_great</td>\n",
       "      <td>[22, 24, 25, 29]</td>\n",
       "      <td>24</td>\n",
       "      <td>good_fine_everything_everythings_well</td>\n",
       "      <td>44</td>\n",
       "      <td>perfect_everything_nothing_great_ok</td>\n",
       "      <td>0.972199</td>\n",
       "    </tr>\n",
       "    <tr>\n",
       "      <th>21</th>\n",
       "      <td>52</td>\n",
       "      <td>room_noisy_bed_hotel_night</td>\n",
       "      <td>[1, 2, 4, 6, 8, 9, 10, 11, 12, 13, 15]</td>\n",
       "      <td>51</td>\n",
       "      <td>wifi_elevator_tv_lift_stairs</td>\n",
       "      <td>49</td>\n",
       "      <td>room_noisy_bed_night_hotel</td>\n",
       "      <td>0.929035</td>\n",
       "    </tr>\n",
       "    <tr>\n",
       "      <th>20</th>\n",
       "      <td>51</td>\n",
       "      <td>wifi_elevator_tv_lift_stairs</td>\n",
       "      <td>[9, 15]</td>\n",
       "      <td>15</td>\n",
       "      <td>elevator_lift_stairs_floor_luggage</td>\n",
       "      <td>9</td>\n",
       "      <td>wifi_tv_internet_weak_connection</td>\n",
       "      <td>0.861500</td>\n",
       "    </tr>\n",
       "    <tr>\n",
       "      <th>19</th>\n",
       "      <td>50</td>\n",
       "      <td>pool_beach_far_location_swimming</td>\n",
       "      <td>[3, 7, 16, 26]</td>\n",
       "      <td>48</td>\n",
       "      <td>pool_beach_far_location_swimming</td>\n",
       "      <td>26</td>\n",
       "      <td>boat_cruise_bay_tour_cruises</td>\n",
       "      <td>0.842800</td>\n",
       "    </tr>\n",
       "    <tr>\n",
       "      <th>18</th>\n",
       "      <td>49</td>\n",
       "      <td>room_noisy_bed_night_hotel</td>\n",
       "      <td>[1, 2, 4, 6, 8, 10, 11, 12, 13]</td>\n",
       "      <td>47</td>\n",
       "      <td>bed_hard_beds_air_ac</td>\n",
       "      <td>45</td>\n",
       "      <td>room_noisy_noise_hotel_night</td>\n",
       "      <td>0.811484</td>\n",
       "    </tr>\n",
       "    <tr>\n",
       "      <th>17</th>\n",
       "      <td>48</td>\n",
       "      <td>pool_beach_far_location_swimming</td>\n",
       "      <td>[3, 7, 16]</td>\n",
       "      <td>7</td>\n",
       "      <td>pool_swimming_area_bar_small</td>\n",
       "      <td>42</td>\n",
       "      <td>beach_far_location_taxi_town</td>\n",
       "      <td>0.777484</td>\n",
       "    </tr>\n",
       "    <tr>\n",
       "      <th>16</th>\n",
       "      <td>47</td>\n",
       "      <td>bed_hard_beds_air_ac</td>\n",
       "      <td>[8, 12]</td>\n",
       "      <td>12</td>\n",
       "      <td>air_ac_aircon_cold_conditioning</td>\n",
       "      <td>8</td>\n",
       "      <td>bed_hard_beds_mattress_pillows</td>\n",
       "      <td>0.775718</td>\n",
       "    </tr>\n",
       "    <tr>\n",
       "      <th>15</th>\n",
       "      <td>46</td>\n",
       "      <td>nothing_everything_stay_anything_say</td>\n",
       "      <td>[5, 18, 20, 21]</td>\n",
       "      <td>36</td>\n",
       "      <td>nothing_everything_stay_anything_say</td>\n",
       "      <td>21</td>\n",
       "      <td>price_fault_value_money_nothing</td>\n",
       "      <td>0.767011</td>\n",
       "    </tr>\n",
       "    <tr>\n",
       "      <th>14</th>\n",
       "      <td>45</td>\n",
       "      <td>room_noisy_noise_hotel_night</td>\n",
       "      <td>[1, 2, 4, 6, 10, 11, 13]</td>\n",
       "      <td>37</td>\n",
       "      <td>room_window_view_rooms_light</td>\n",
       "      <td>43</td>\n",
       "      <td>room_noisy_noise_hotel_night</td>\n",
       "      <td>0.766975</td>\n",
       "    </tr>\n",
       "    <tr>\n",
       "      <th>13</th>\n",
       "      <td>44</td>\n",
       "      <td>perfect_everything_nothing_great_ok</td>\n",
       "      <td>[22, 25, 29]</td>\n",
       "      <td>29</td>\n",
       "      <td>everything_great_ok_excellent_wonderful</td>\n",
       "      <td>31</td>\n",
       "      <td>perfect_everything_nothing_good_absolutely</td>\n",
       "      <td>0.759322</td>\n",
       "    </tr>\n",
       "    <tr>\n",
       "      <th>12</th>\n",
       "      <td>43</td>\n",
       "      <td>room_noisy_noise_hotel_night</td>\n",
       "      <td>[1, 2, 4, 6, 11]</td>\n",
       "      <td>38</td>\n",
       "      <td>room_noisy_noise_hotel_night</td>\n",
       "      <td>35</td>\n",
       "      <td>bathroom_smell_shower_room_toilet</td>\n",
       "      <td>0.715112</td>\n",
       "    </tr>\n",
       "    <tr>\n",
       "      <th>11</th>\n",
       "      <td>42</td>\n",
       "      <td>beach_far_location_taxi_town</td>\n",
       "      <td>[3, 16]</td>\n",
       "      <td>16</td>\n",
       "      <td>beach_sea_hotel_sand_walk</td>\n",
       "      <td>3</td>\n",
       "      <td>far_location_taxi_town_city</td>\n",
       "      <td>0.691978</td>\n",
       "    </tr>\n",
       "    <tr>\n",
       "      <th>10</th>\n",
       "      <td>41</td>\n",
       "      <td>breakfast_food_restaurant_options_buffet</td>\n",
       "      <td>[0, 27, 30]</td>\n",
       "      <td>30</td>\n",
       "      <td>vegetarian_options_vegan_breakfast_vegetarians</td>\n",
       "      <td>32</td>\n",
       "      <td>breakfast_food_restaurant_buffet_coffee</td>\n",
       "      <td>0.668919</td>\n",
       "    </tr>\n",
       "    <tr>\n",
       "      <th>9</th>\n",
       "      <td>40</td>\n",
       "      <td>english_staff_speak_communicate_friendly</td>\n",
       "      <td>[17, 19]</td>\n",
       "      <td>17</td>\n",
       "      <td>english_speak_staff_communicate_communication</td>\n",
       "      <td>19</td>\n",
       "      <td>staff_friendly_helpful_reception_staffs</td>\n",
       "      <td>0.663706</td>\n",
       "    </tr>\n",
       "    <tr>\n",
       "      <th>8</th>\n",
       "      <td>39</td>\n",
       "      <td>water_hot_shower_bottles_cold</td>\n",
       "      <td>[14, 28]</td>\n",
       "      <td>28</td>\n",
       "      <td>water_bottles_plastic_bottle_free</td>\n",
       "      <td>14</td>\n",
       "      <td>hot_water_shower_cold_warm</td>\n",
       "      <td>0.644398</td>\n",
       "    </tr>\n",
       "    <tr>\n",
       "      <th>7</th>\n",
       "      <td>38</td>\n",
       "      <td>room_noisy_noise_hotel_night</td>\n",
       "      <td>[1, 4, 11]</td>\n",
       "      <td>34</td>\n",
       "      <td>noisy_noise_room_hotel_night</td>\n",
       "      <td>11</td>\n",
       "      <td>mosquitoes_ants_mosquito_mosquitos_bugs</td>\n",
       "      <td>0.630966</td>\n",
       "    </tr>\n",
       "    <tr>\n",
       "      <th>6</th>\n",
       "      <td>37</td>\n",
       "      <td>room_window_view_rooms_light</td>\n",
       "      <td>[10, 13]</td>\n",
       "      <td>13</td>\n",
       "      <td>rooms_room_small_bit_smaller</td>\n",
       "      <td>10</td>\n",
       "      <td>window_view_light_room_windows</td>\n",
       "      <td>0.591166</td>\n",
       "    </tr>\n",
       "    <tr>\n",
       "      <th>5</th>\n",
       "      <td>36</td>\n",
       "      <td>nothing_everything_stay_anything_say</td>\n",
       "      <td>[5, 18, 20]</td>\n",
       "      <td>33</td>\n",
       "      <td>nothing_everything_stay_anything_longer</td>\n",
       "      <td>20</td>\n",
       "      <td>hotel_nothing_like_homestay_fault</td>\n",
       "      <td>0.587245</td>\n",
       "    </tr>\n",
       "    <tr>\n",
       "      <th>4</th>\n",
       "      <td>35</td>\n",
       "      <td>bathroom_smell_shower_room_toilet</td>\n",
       "      <td>[2, 6]</td>\n",
       "      <td>2</td>\n",
       "      <td>smell_room_clean_towels_bathroom</td>\n",
       "      <td>6</td>\n",
       "      <td>shower_bathroom_toilet_water_floor</td>\n",
       "      <td>0.543643</td>\n",
       "    </tr>\n",
       "    <tr>\n",
       "      <th>3</th>\n",
       "      <td>34</td>\n",
       "      <td>noisy_noise_room_hotel_night</td>\n",
       "      <td>[1, 4]</td>\n",
       "      <td>1</td>\n",
       "      <td>noisy_noise_loud_hear_night</td>\n",
       "      <td>4</td>\n",
       "      <td>hotel_us_room_staff_check</td>\n",
       "      <td>0.470694</td>\n",
       "    </tr>\n",
       "    <tr>\n",
       "      <th>2</th>\n",
       "      <td>33</td>\n",
       "      <td>nothing_everything_stay_anything_longer</td>\n",
       "      <td>[5, 18]</td>\n",
       "      <td>18</td>\n",
       "      <td>nothing_say_really_particular_much</td>\n",
       "      <td>5</td>\n",
       "      <td>nothing_everything_stay_longer_anything</td>\n",
       "      <td>0.388784</td>\n",
       "    </tr>\n",
       "    <tr>\n",
       "      <th>1</th>\n",
       "      <td>32</td>\n",
       "      <td>breakfast_food_restaurant_buffet_coffee</td>\n",
       "      <td>[0, 27]</td>\n",
       "      <td>0</td>\n",
       "      <td>breakfast_food_restaurant_buffet_coffee</td>\n",
       "      <td>27</td>\n",
       "      <td>vietnamese_vietnam_food_breakfast_western</td>\n",
       "      <td>0.380437</td>\n",
       "    </tr>\n",
       "    <tr>\n",
       "      <th>0</th>\n",
       "      <td>31</td>\n",
       "      <td>perfect_everything_nothing_good_absolutely</td>\n",
       "      <td>[22, 25]</td>\n",
       "      <td>25</td>\n",
       "      <td>perfect_everything_nothing_good_really</td>\n",
       "      <td>22</td>\n",
       "      <td>perfect_nothing_everything_note_flawless</td>\n",
       "      <td>0.123638</td>\n",
       "    </tr>\n",
       "  </tbody>\n",
       "</table>\n",
       "</div>"
      ],
      "text/plain": [
       "   Parent_ID                                 Parent_Name  \\\n",
       "29        60              room_breakfast_hotel_bit_could   \n",
       "28        59              room_breakfast_hotel_bit_could   \n",
       "27        58     breakfast_food_restaurant_staff_options   \n",
       "26        57       nothing_everything_perfect_great_good   \n",
       "25        56         english_staff_speak_nil_communicate   \n",
       "24        55                  room_hotel_bit_water_night   \n",
       "23        54                   room_hotel_bit_pool_night   \n",
       "22        53       perfect_everything_nothing_good_great   \n",
       "21        52                  room_noisy_bed_hotel_night   \n",
       "20        51                wifi_elevator_tv_lift_stairs   \n",
       "19        50            pool_beach_far_location_swimming   \n",
       "18        49                  room_noisy_bed_night_hotel   \n",
       "17        48            pool_beach_far_location_swimming   \n",
       "16        47                        bed_hard_beds_air_ac   \n",
       "15        46        nothing_everything_stay_anything_say   \n",
       "14        45                room_noisy_noise_hotel_night   \n",
       "13        44         perfect_everything_nothing_great_ok   \n",
       "12        43                room_noisy_noise_hotel_night   \n",
       "11        42                beach_far_location_taxi_town   \n",
       "10        41    breakfast_food_restaurant_options_buffet   \n",
       "9         40    english_staff_speak_communicate_friendly   \n",
       "8         39               water_hot_shower_bottles_cold   \n",
       "7         38                room_noisy_noise_hotel_night   \n",
       "6         37                room_window_view_rooms_light   \n",
       "5         36        nothing_everything_stay_anything_say   \n",
       "4         35           bathroom_smell_shower_room_toilet   \n",
       "3         34                noisy_noise_room_hotel_night   \n",
       "2         33     nothing_everything_stay_anything_longer   \n",
       "1         32     breakfast_food_restaurant_buffet_coffee   \n",
       "0         31  perfect_everything_nothing_good_absolutely   \n",
       "\n",
       "                                               Topics Child_Left_ID  \\\n",
       "29  [0, 1, 2, 3, 4, 5, 6, 7, 8, 9, 10, 11, 12, 13,...            57   \n",
       "28  [0, 1, 2, 3, 4, 6, 7, 8, 9, 10, 11, 12, 13, 14...            55   \n",
       "27                            [0, 17, 19, 23, 27, 30]            41   \n",
       "26                    [5, 18, 20, 21, 22, 24, 25, 29]            53   \n",
       "25                                       [17, 19, 23]            40   \n",
       "24  [1, 2, 3, 4, 6, 7, 8, 9, 10, 11, 12, 13, 14, 1...            39   \n",
       "23  [1, 2, 3, 4, 6, 7, 8, 9, 10, 11, 12, 13, 15, 1...            52   \n",
       "22                                   [22, 24, 25, 29]            24   \n",
       "21             [1, 2, 4, 6, 8, 9, 10, 11, 12, 13, 15]            51   \n",
       "20                                            [9, 15]            15   \n",
       "19                                     [3, 7, 16, 26]            48   \n",
       "18                    [1, 2, 4, 6, 8, 10, 11, 12, 13]            47   \n",
       "17                                         [3, 7, 16]             7   \n",
       "16                                            [8, 12]            12   \n",
       "15                                    [5, 18, 20, 21]            36   \n",
       "14                           [1, 2, 4, 6, 10, 11, 13]            37   \n",
       "13                                       [22, 25, 29]            29   \n",
       "12                                   [1, 2, 4, 6, 11]            38   \n",
       "11                                            [3, 16]            16   \n",
       "10                                        [0, 27, 30]            30   \n",
       "9                                            [17, 19]            17   \n",
       "8                                            [14, 28]            28   \n",
       "7                                          [1, 4, 11]            34   \n",
       "6                                            [10, 13]            13   \n",
       "5                                         [5, 18, 20]            33   \n",
       "4                                              [2, 6]             2   \n",
       "3                                              [1, 4]             1   \n",
       "2                                             [5, 18]            18   \n",
       "1                                             [0, 27]             0   \n",
       "0                                            [22, 25]            25   \n",
       "\n",
       "                                   Child_Left_Name Child_Right_ID  \\\n",
       "29           nothing_everything_perfect_great_good             59   \n",
       "28                      room_hotel_bit_water_night             58   \n",
       "27        breakfast_food_restaurant_options_buffet             56   \n",
       "26           perfect_everything_nothing_good_great             46   \n",
       "25        english_staff_speak_communicate_friendly             23   \n",
       "24                   water_hot_shower_bottles_cold             54   \n",
       "23                      room_noisy_bed_hotel_night             50   \n",
       "22           good_fine_everything_everythings_well             44   \n",
       "21                    wifi_elevator_tv_lift_stairs             49   \n",
       "20              elevator_lift_stairs_floor_luggage              9   \n",
       "19                pool_beach_far_location_swimming             26   \n",
       "18                            bed_hard_beds_air_ac             45   \n",
       "17                    pool_swimming_area_bar_small             42   \n",
       "16                 air_ac_aircon_cold_conditioning              8   \n",
       "15            nothing_everything_stay_anything_say             21   \n",
       "14                    room_window_view_rooms_light             43   \n",
       "13         everything_great_ok_excellent_wonderful             31   \n",
       "12                    room_noisy_noise_hotel_night             35   \n",
       "11                       beach_sea_hotel_sand_walk              3   \n",
       "10  vegetarian_options_vegan_breakfast_vegetarians             32   \n",
       "9    english_speak_staff_communicate_communication             19   \n",
       "8                water_bottles_plastic_bottle_free             14   \n",
       "7                     noisy_noise_room_hotel_night             11   \n",
       "6                     rooms_room_small_bit_smaller             10   \n",
       "5          nothing_everything_stay_anything_longer             20   \n",
       "4                 smell_room_clean_towels_bathroom              6   \n",
       "3                      noisy_noise_loud_hear_night              4   \n",
       "2               nothing_say_really_particular_much              5   \n",
       "1          breakfast_food_restaurant_buffet_coffee             27   \n",
       "0           perfect_everything_nothing_good_really             22   \n",
       "\n",
       "                              Child_Right_Name  Distance  \n",
       "29              room_breakfast_hotel_bit_could  1.877628  \n",
       "28     breakfast_food_restaurant_staff_options  1.198818  \n",
       "27         english_staff_speak_nil_communicate  1.145814  \n",
       "26        nothing_everything_stay_anything_say  1.139374  \n",
       "25              nil_great_excellent_far_lovely  1.075837  \n",
       "24                   room_hotel_bit_pool_night  1.043659  \n",
       "23            pool_beach_far_location_swimming  1.019014  \n",
       "22         perfect_everything_nothing_great_ok  0.972199  \n",
       "21                  room_noisy_bed_night_hotel  0.929035  \n",
       "20            wifi_tv_internet_weak_connection  0.861500  \n",
       "19                boat_cruise_bay_tour_cruises  0.842800  \n",
       "18                room_noisy_noise_hotel_night  0.811484  \n",
       "17                beach_far_location_taxi_town  0.777484  \n",
       "16              bed_hard_beds_mattress_pillows  0.775718  \n",
       "15             price_fault_value_money_nothing  0.767011  \n",
       "14                room_noisy_noise_hotel_night  0.766975  \n",
       "13  perfect_everything_nothing_good_absolutely  0.759322  \n",
       "12           bathroom_smell_shower_room_toilet  0.715112  \n",
       "11                 far_location_taxi_town_city  0.691978  \n",
       "10     breakfast_food_restaurant_buffet_coffee  0.668919  \n",
       "9      staff_friendly_helpful_reception_staffs  0.663706  \n",
       "8                   hot_water_shower_cold_warm  0.644398  \n",
       "7      mosquitoes_ants_mosquito_mosquitos_bugs  0.630966  \n",
       "6               window_view_light_room_windows  0.591166  \n",
       "5            hotel_nothing_like_homestay_fault  0.587245  \n",
       "4           shower_bathroom_toilet_water_floor  0.543643  \n",
       "3                    hotel_us_room_staff_check  0.470694  \n",
       "2      nothing_everything_stay_longer_anything  0.388784  \n",
       "1    vietnamese_vietnam_food_breakfast_western  0.380437  \n",
       "0     perfect_nothing_everything_note_flawless  0.123638  "
      ]
     },
     "execution_count": 20,
     "metadata": {},
     "output_type": "execute_result"
    }
   ],
   "source": [
    "# Hierachical topics\n",
    "hierarchical_topics = topic_model.hierarchical_topics(df['dislike_remove_special_characters'])\n",
    "\n",
    "# Take a look at the data\n",
    "hierarchical_topics"
   ]
  },
  {
   "cell_type": "code",
   "execution_count": 21,
   "metadata": {},
   "outputs": [
    {
     "name": "stdout",
     "output_type": "stream",
     "text": [
      "   Parent_ID                                 Parent_Name  \\\n",
      "29        60              room_breakfast_hotel_bit_could   \n",
      "28        59              room_breakfast_hotel_bit_could   \n",
      "27        58     breakfast_food_restaurant_staff_options   \n",
      "26        57       nothing_everything_perfect_great_good   \n",
      "25        56         english_staff_speak_nil_communicate   \n",
      "24        55                  room_hotel_bit_water_night   \n",
      "23        54                   room_hotel_bit_pool_night   \n",
      "22        53       perfect_everything_nothing_good_great   \n",
      "21        52                  room_noisy_bed_hotel_night   \n",
      "20        51                wifi_elevator_tv_lift_stairs   \n",
      "19        50            pool_beach_far_location_swimming   \n",
      "18        49                  room_noisy_bed_night_hotel   \n",
      "17        48            pool_beach_far_location_swimming   \n",
      "16        47                        bed_hard_beds_air_ac   \n",
      "15        46        nothing_everything_stay_anything_say   \n",
      "14        45                room_noisy_noise_hotel_night   \n",
      "13        44         perfect_everything_nothing_great_ok   \n",
      "12        43                room_noisy_noise_hotel_night   \n",
      "11        42                beach_far_location_taxi_town   \n",
      "10        41    breakfast_food_restaurant_options_buffet   \n",
      "9         40    english_staff_speak_communicate_friendly   \n",
      "8         39               water_hot_shower_bottles_cold   \n",
      "7         38                room_noisy_noise_hotel_night   \n",
      "6         37                room_window_view_rooms_light   \n",
      "5         36        nothing_everything_stay_anything_say   \n",
      "4         35           bathroom_smell_shower_room_toilet   \n",
      "3         34                noisy_noise_room_hotel_night   \n",
      "2         33     nothing_everything_stay_anything_longer   \n",
      "1         32     breakfast_food_restaurant_buffet_coffee   \n",
      "0         31  perfect_everything_nothing_good_absolutely   \n",
      "\n",
      "                                               Topics Child_Left_ID  \\\n",
      "29  [0, 1, 2, 3, 4, 5, 6, 7, 8, 9, 10, 11, 12, 13,...            57   \n",
      "28  [0, 1, 2, 3, 4, 6, 7, 8, 9, 10, 11, 12, 13, 14...            55   \n",
      "27                            [0, 17, 19, 23, 27, 30]            41   \n",
      "26                    [5, 18, 20, 21, 22, 24, 25, 29]            53   \n",
      "25                                       [17, 19, 23]            40   \n",
      "24  [1, 2, 3, 4, 6, 7, 8, 9, 10, 11, 12, 13, 14, 1...            39   \n",
      "23  [1, 2, 3, 4, 6, 7, 8, 9, 10, 11, 12, 13, 15, 1...            52   \n",
      "22                                   [22, 24, 25, 29]            24   \n",
      "21             [1, 2, 4, 6, 8, 9, 10, 11, 12, 13, 15]            51   \n",
      "20                                            [9, 15]            15   \n",
      "19                                     [3, 7, 16, 26]            48   \n",
      "18                    [1, 2, 4, 6, 8, 10, 11, 12, 13]            47   \n",
      "17                                         [3, 7, 16]             7   \n",
      "16                                            [8, 12]            12   \n",
      "15                                    [5, 18, 20, 21]            36   \n",
      "14                           [1, 2, 4, 6, 10, 11, 13]            37   \n",
      "13                                       [22, 25, 29]            29   \n",
      "12                                   [1, 2, 4, 6, 11]            38   \n",
      "11                                            [3, 16]            16   \n",
      "10                                        [0, 27, 30]            30   \n",
      "9                                            [17, 19]            17   \n",
      "8                                            [14, 28]            28   \n",
      "7                                          [1, 4, 11]            34   \n",
      "6                                            [10, 13]            13   \n",
      "5                                         [5, 18, 20]            33   \n",
      "4                                              [2, 6]             2   \n",
      "3                                              [1, 4]             1   \n",
      "2                                             [5, 18]            18   \n",
      "1                                             [0, 27]             0   \n",
      "0                                            [22, 25]            25   \n",
      "\n",
      "                                   Child_Left_Name Child_Right_ID  \\\n",
      "29           nothing_everything_perfect_great_good             59   \n",
      "28                      room_hotel_bit_water_night             58   \n",
      "27        breakfast_food_restaurant_options_buffet             56   \n",
      "26           perfect_everything_nothing_good_great             46   \n",
      "25        english_staff_speak_communicate_friendly             23   \n",
      "24                   water_hot_shower_bottles_cold             54   \n",
      "23                      room_noisy_bed_hotel_night             50   \n",
      "22           good_fine_everything_everythings_well             44   \n",
      "21                    wifi_elevator_tv_lift_stairs             49   \n",
      "20              elevator_lift_stairs_floor_luggage              9   \n",
      "19                pool_beach_far_location_swimming             26   \n",
      "18                            bed_hard_beds_air_ac             45   \n",
      "17                    pool_swimming_area_bar_small             42   \n",
      "16                 air_ac_aircon_cold_conditioning              8   \n",
      "15            nothing_everything_stay_anything_say             21   \n",
      "14                    room_window_view_rooms_light             43   \n",
      "13         everything_great_ok_excellent_wonderful             31   \n",
      "12                    room_noisy_noise_hotel_night             35   \n",
      "11                       beach_sea_hotel_sand_walk              3   \n",
      "10  vegetarian_options_vegan_breakfast_vegetarians             32   \n",
      "9    english_speak_staff_communicate_communication             19   \n",
      "8                water_bottles_plastic_bottle_free             14   \n",
      "7                     noisy_noise_room_hotel_night             11   \n",
      "6                     rooms_room_small_bit_smaller             10   \n",
      "5          nothing_everything_stay_anything_longer             20   \n",
      "4                 smell_room_clean_towels_bathroom              6   \n",
      "3                      noisy_noise_loud_hear_night              4   \n",
      "2               nothing_say_really_particular_much              5   \n",
      "1          breakfast_food_restaurant_buffet_coffee             27   \n",
      "0           perfect_everything_nothing_good_really             22   \n",
      "\n",
      "                              Child_Right_Name  Distance  \n",
      "29              room_breakfast_hotel_bit_could  1.877628  \n",
      "28     breakfast_food_restaurant_staff_options  1.198818  \n",
      "27         english_staff_speak_nil_communicate  1.145814  \n",
      "26        nothing_everything_stay_anything_say  1.139374  \n",
      "25              nil_great_excellent_far_lovely  1.075837  \n",
      "24                   room_hotel_bit_pool_night  1.043659  \n",
      "23            pool_beach_far_location_swimming  1.019014  \n",
      "22         perfect_everything_nothing_great_ok  0.972199  \n",
      "21                  room_noisy_bed_night_hotel  0.929035  \n",
      "20            wifi_tv_internet_weak_connection  0.861500  \n",
      "19                boat_cruise_bay_tour_cruises  0.842800  \n",
      "18                room_noisy_noise_hotel_night  0.811484  \n",
      "17                beach_far_location_taxi_town  0.777484  \n",
      "16              bed_hard_beds_mattress_pillows  0.775718  \n",
      "15             price_fault_value_money_nothing  0.767011  \n",
      "14                room_noisy_noise_hotel_night  0.766975  \n",
      "13  perfect_everything_nothing_good_absolutely  0.759322  \n",
      "12           bathroom_smell_shower_room_toilet  0.715112  \n",
      "11                 far_location_taxi_town_city  0.691978  \n",
      "10     breakfast_food_restaurant_buffet_coffee  0.668919  \n",
      "9      staff_friendly_helpful_reception_staffs  0.663706  \n",
      "8                   hot_water_shower_cold_warm  0.644398  \n",
      "7      mosquitoes_ants_mosquito_mosquitos_bugs  0.630966  \n",
      "6               window_view_light_room_windows  0.591166  \n",
      "5            hotel_nothing_like_homestay_fault  0.587245  \n",
      "4           shower_bathroom_toilet_water_floor  0.543643  \n",
      "3                    hotel_us_room_staff_check  0.470694  \n",
      "2      nothing_everything_stay_longer_anything  0.388784  \n",
      "1    vietnamese_vietnam_food_breakfast_western  0.380437  \n",
      "0     perfect_nothing_everything_note_flawless  0.123638  \n"
     ]
    }
   ],
   "source": [
    "import pandas as pd\n",
    "\n",
    "# Convert hierarchical_topics to DataFrame\n",
    "hierarchical_topics_df = pd.DataFrame(hierarchical_topics)\n",
    "\n",
    "# Display the DataFrame\n",
    "print(hierarchical_topics_df)"
   ]
  },
  {
   "cell_type": "code",
   "execution_count": 22,
   "metadata": {},
   "outputs": [],
   "source": [
    "df.to_csv('hierarchical_topics_df.csv', index=False)"
   ]
  },
  {
   "cell_type": "code",
   "execution_count": 23,
   "metadata": {},
   "outputs": [
    {
     "data": {
      "application/vnd.plotly.v1+json": {
       "config": {
        "plotlyServerURL": "https://plot.ly"
       },
       "data": [
        {
         "hoverinfo": "text",
         "marker": {
          "color": "rgb(61,153,112)"
         },
         "mode": "lines",
         "text": [
          "perfect_everything_nothing_good_really",
          "",
          "",
          "perfect_nothing_everything_note_flawless"
         ],
         "type": "scatter",
         "x": [
          0,
          0.12363827664311144,
          0.12363827664311144,
          0
         ],
         "xaxis": "x",
         "y": [
          -25,
          -25,
          -35,
          -35
         ],
         "yaxis": "y"
        },
        {
         "hoverinfo": "text",
         "marker": {
          "color": "rgb(61,153,112)"
         },
         "mode": "lines",
         "text": [
          "everything_great_ok_excellent_wonderful",
          "",
          "",
          "perfect_everything_nothing_good_absolutely"
         ],
         "type": "scatter",
         "x": [
          0,
          0.7593217744112162,
          0.7593217744112162,
          0.12363827664311144
         ],
         "xaxis": "x",
         "y": [
          -15,
          -15,
          -30,
          -30
         ],
         "yaxis": "y"
        },
        {
         "hoverinfo": "text",
         "marker": {
          "color": "rgb(61,153,112)"
         },
         "mode": "lines",
         "text": [
          "good_fine_everything_everythings_well",
          "",
          "",
          "perfect_everything_nothing_great_ok"
         ],
         "type": "scatter",
         "x": [
          0,
          0.9721991044564938,
          0.9721991044564938,
          0.7593217744112162
         ],
         "xaxis": "x",
         "y": [
          -5,
          -5,
          -22.5,
          -22.5
         ],
         "yaxis": "y"
        },
        {
         "hoverinfo": "text",
         "marker": {
          "color": "rgb(255,65,54)"
         },
         "mode": "lines",
         "text": [
          "nothing_say_really_particular_much",
          "",
          "",
          "nothing_everything_stay_longer_anything"
         ],
         "type": "scatter",
         "x": [
          0,
          0.38878374555805995,
          0.38878374555805995,
          0
         ],
         "xaxis": "x",
         "y": [
          -45,
          -45,
          -55,
          -55
         ],
         "yaxis": "y"
        },
        {
         "hoverinfo": "text",
         "marker": {
          "color": "rgb(255,65,54)"
         },
         "mode": "lines",
         "text": [
          "nothing_everything_stay_anything_longer",
          "",
          "",
          "hotel_nothing_like_homestay_fault"
         ],
         "type": "scatter",
         "x": [
          0.38878374555805995,
          0.5872446410876957,
          0.5872446410876957,
          0
         ],
         "xaxis": "x",
         "y": [
          -50,
          -50,
          -65,
          -65
         ],
         "yaxis": "y"
        },
        {
         "hoverinfo": "text",
         "marker": {
          "color": "rgb(255,65,54)"
         },
         "mode": "lines",
         "text": [
          "nothing_everything_stay_anything_say",
          "",
          "",
          "price_fault_value_money_nothing"
         ],
         "type": "scatter",
         "x": [
          0.5872446410876957,
          0.767010830407781,
          0.767010830407781,
          0
         ],
         "xaxis": "x",
         "y": [
          -57.5,
          -57.5,
          -75,
          -75
         ],
         "yaxis": "y"
        },
        {
         "hoverinfo": "text",
         "marker": {
          "color": "rgb(0,116,217)"
         },
         "mode": "lines",
         "text": [
          "perfect_everything_nothing_good_great",
          "",
          "",
          "nothing_everything_stay_anything_say"
         ],
         "type": "scatter",
         "x": [
          0.9721991044564938,
          1.1393743939471583,
          1.1393743939471583,
          0.767010830407781
         ],
         "xaxis": "x",
         "y": [
          -13.75,
          -13.75,
          -66.25,
          -66.25
         ],
         "yaxis": "y"
        },
        {
         "hoverinfo": "text",
         "marker": {
          "color": "rgb(35,205,205)"
         },
         "mode": "lines",
         "text": [
          "water_bottles_plastic_bottle_free",
          "",
          "",
          "hot_water_shower_cold_warm"
         ],
         "type": "scatter",
         "x": [
          0,
          0.6443982126133646,
          0.6443982126133646,
          0
         ],
         "xaxis": "x",
         "y": [
          -85,
          -85,
          -95,
          -95
         ],
         "yaxis": "y"
        },
        {
         "hoverinfo": "text",
         "marker": {
          "color": "rgb(133,20,75)"
         },
         "mode": "lines",
         "text": [
          "elevator_lift_stairs_floor_luggage",
          "",
          "",
          "wifi_tv_internet_weak_connection"
         ],
         "type": "scatter",
         "x": [
          0,
          0.8615000844206548,
          0.8615000844206548,
          0
         ],
         "xaxis": "x",
         "y": [
          -105,
          -105,
          -115,
          -115
         ],
         "yaxis": "y"
        },
        {
         "hoverinfo": "text",
         "marker": {
          "color": "rgb(133,20,75)"
         },
         "mode": "lines",
         "text": [
          "air_ac_aircon_cold_conditioning",
          "",
          "",
          "bed_hard_beds_mattress_pillows"
         ],
         "type": "scatter",
         "x": [
          0,
          0.7757175301577292,
          0.7757175301577292,
          0
         ],
         "xaxis": "x",
         "y": [
          -125,
          -125,
          -135,
          -135
         ],
         "yaxis": "y"
        },
        {
         "hoverinfo": "text",
         "marker": {
          "color": "rgb(133,20,75)"
         },
         "mode": "lines",
         "text": [
          "rooms_room_small_bit_smaller",
          "",
          "",
          "window_view_light_room_windows"
         ],
         "type": "scatter",
         "x": [
          0,
          0.5911664138531403,
          0.5911664138531403,
          0
         ],
         "xaxis": "x",
         "y": [
          -145,
          -145,
          -155,
          -155
         ],
         "yaxis": "y"
        },
        {
         "hoverinfo": "text",
         "marker": {
          "color": "rgb(133,20,75)"
         },
         "mode": "lines",
         "text": [
          "noisy_noise_loud_hear_night",
          "",
          "",
          "hotel_us_room_staff_check"
         ],
         "type": "scatter",
         "x": [
          0,
          0.4706938617521127,
          0.4706938617521127,
          0
         ],
         "xaxis": "x",
         "y": [
          -165,
          -165,
          -175,
          -175
         ],
         "yaxis": "y"
        },
        {
         "hoverinfo": "text",
         "marker": {
          "color": "rgb(133,20,75)"
         },
         "mode": "lines",
         "text": [
          "noisy_noise_room_hotel_night",
          "",
          "",
          "mosquitoes_ants_mosquito_mosquitos_bugs"
         ],
         "type": "scatter",
         "x": [
          0.4706938617521127,
          0.6309660924691173,
          0.6309660924691173,
          0
         ],
         "xaxis": "x",
         "y": [
          -170,
          -170,
          -185,
          -185
         ],
         "yaxis": "y"
        },
        {
         "hoverinfo": "text",
         "marker": {
          "color": "rgb(133,20,75)"
         },
         "mode": "lines",
         "text": [
          "smell_room_clean_towels_bathroom",
          "",
          "",
          "shower_bathroom_toilet_water_floor"
         ],
         "type": "scatter",
         "x": [
          0,
          0.5436429621158922,
          0.5436429621158922,
          0
         ],
         "xaxis": "x",
         "y": [
          -195,
          -195,
          -205,
          -205
         ],
         "yaxis": "y"
        },
        {
         "hoverinfo": "text",
         "marker": {
          "color": "rgb(133,20,75)"
         },
         "mode": "lines",
         "text": [
          "room_noisy_noise_hotel_night",
          "",
          "",
          "bathroom_smell_shower_room_toilet"
         ],
         "type": "scatter",
         "x": [
          0.6309660924691173,
          0.71511175217014,
          0.71511175217014,
          0.5436429621158922
         ],
         "xaxis": "x",
         "y": [
          -177.5,
          -177.5,
          -200,
          -200
         ],
         "yaxis": "y"
        },
        {
         "hoverinfo": "text",
         "marker": {
          "color": "rgb(133,20,75)"
         },
         "mode": "lines",
         "text": [
          "room_window_view_rooms_light",
          "",
          "",
          "room_noisy_noise_hotel_night"
         ],
         "type": "scatter",
         "x": [
          0.5911664138531403,
          0.7669753221791948,
          0.7669753221791948,
          0.71511175217014
         ],
         "xaxis": "x",
         "y": [
          -150,
          -150,
          -188.75,
          -188.75
         ],
         "yaxis": "y"
        },
        {
         "hoverinfo": "text",
         "marker": {
          "color": "rgb(133,20,75)"
         },
         "mode": "lines",
         "text": [
          "bed_hard_beds_air_ac",
          "",
          "",
          "room_noisy_noise_hotel_night"
         ],
         "type": "scatter",
         "x": [
          0.7757175301577292,
          0.8114838514566483,
          0.8114838514566483,
          0.7669753221791948
         ],
         "xaxis": "x",
         "y": [
          -130,
          -130,
          -169.375,
          -169.375
         ],
         "yaxis": "y"
        },
        {
         "hoverinfo": "text",
         "marker": {
          "color": "rgb(133,20,75)"
         },
         "mode": "lines",
         "text": [
          "wifi_elevator_tv_lift_stairs",
          "",
          "",
          "room_noisy_bed_night_hotel"
         ],
         "type": "scatter",
         "x": [
          0.8615000844206548,
          0.929035281735118,
          0.929035281735118,
          0.8114838514566483
         ],
         "xaxis": "x",
         "y": [
          -110,
          -110,
          -149.6875,
          -149.6875
         ],
         "yaxis": "y"
        },
        {
         "hoverinfo": "text",
         "marker": {
          "color": "rgb(255,220,0)"
         },
         "mode": "lines",
         "text": [
          "beach_sea_hotel_sand_walk",
          "",
          "",
          "far_location_taxi_town_city"
         ],
         "type": "scatter",
         "x": [
          0,
          0.691977904094148,
          0.691977904094148,
          0
         ],
         "xaxis": "x",
         "y": [
          -225,
          -225,
          -235,
          -235
         ],
         "yaxis": "y"
        },
        {
         "hoverinfo": "text",
         "marker": {
          "color": "rgb(255,220,0)"
         },
         "mode": "lines",
         "text": [
          "pool_swimming_area_bar_small",
          "",
          "",
          "beach_far_location_taxi_town"
         ],
         "type": "scatter",
         "x": [
          0,
          0.777484446680065,
          0.777484446680065,
          0.691977904094148
         ],
         "xaxis": "x",
         "y": [
          -215,
          -215,
          -230,
          -230
         ],
         "yaxis": "y"
        },
        {
         "hoverinfo": "text",
         "marker": {
          "color": "rgb(255,220,0)"
         },
         "mode": "lines",
         "text": [
          "pool_beach_far_location_swimming",
          "",
          "",
          "boat_cruise_bay_tour_cruises"
         ],
         "type": "scatter",
         "x": [
          0.777484446680065,
          0.8428002191669487,
          0.8428002191669487,
          0
         ],
         "xaxis": "x",
         "y": [
          -222.5,
          -222.5,
          -245,
          -245
         ],
         "yaxis": "y"
        },
        {
         "hoverinfo": "text",
         "marker": {
          "color": "rgb(0,116,217)"
         },
         "mode": "lines",
         "text": [
          "room_noisy_bed_hotel_night",
          "",
          "",
          "pool_beach_far_location_swimming"
         ],
         "type": "scatter",
         "x": [
          0.929035281735118,
          1.0190138720818485,
          1.0190138720818485,
          0.8428002191669487
         ],
         "xaxis": "x",
         "y": [
          -129.84375,
          -129.84375,
          -233.75,
          -233.75
         ],
         "yaxis": "y"
        },
        {
         "hoverinfo": "text",
         "marker": {
          "color": "rgb(0,116,217)"
         },
         "mode": "lines",
         "text": [
          "water_hot_shower_bottles_cold",
          "",
          "",
          "room_hotel_bit_pool_night"
         ],
         "type": "scatter",
         "x": [
          0.6443982126133646,
          1.0436585507358058,
          1.0436585507358058,
          1.0190138720818485
         ],
         "xaxis": "x",
         "y": [
          -90,
          -90,
          -181.796875,
          -181.796875
         ],
         "yaxis": "y"
        },
        {
         "hoverinfo": "text",
         "marker": {
          "color": "rgb(40,35,35)"
         },
         "mode": "lines",
         "text": [
          "breakfast_food_restaurant_buffet_coffee",
          "",
          "",
          "vietnamese_vietnam_food_breakfast_western"
         ],
         "type": "scatter",
         "x": [
          0,
          0.380437230707535,
          0.380437230707535,
          0
         ],
         "xaxis": "x",
         "y": [
          -265,
          -265,
          -275,
          -275
         ],
         "yaxis": "y"
        },
        {
         "hoverinfo": "text",
         "marker": {
          "color": "rgb(40,35,35)"
         },
         "mode": "lines",
         "text": [
          "vegetarian_options_vegan_breakfast_vegetarians",
          "",
          "",
          "breakfast_food_restaurant_buffet_coffee"
         ],
         "type": "scatter",
         "x": [
          0,
          0.6689194466248745,
          0.6689194466248745,
          0.380437230707535
         ],
         "xaxis": "x",
         "y": [
          -255,
          -255,
          -270,
          -270
         ],
         "yaxis": "y"
        },
        {
         "hoverinfo": "text",
         "marker": {
          "color": "rgb(61,153,112)"
         },
         "mode": "lines",
         "text": [
          "english_speak_staff_communicate_communication",
          "",
          "",
          "staff_friendly_helpful_reception_staffs"
         ],
         "type": "scatter",
         "x": [
          0,
          0.6637059201941206,
          0.6637059201941206,
          0
         ],
         "xaxis": "x",
         "y": [
          -285,
          -285,
          -295,
          -295
         ],
         "yaxis": "y"
        },
        {
         "hoverinfo": "text",
         "marker": {
          "color": "rgb(0,116,217)"
         },
         "mode": "lines",
         "text": [
          "english_staff_speak_communicate_friendly",
          "",
          "",
          "nil_great_excellent_far_lovely"
         ],
         "type": "scatter",
         "x": [
          0.6637059201941206,
          1.0758373034579949,
          1.0758373034579949,
          0
         ],
         "xaxis": "x",
         "y": [
          -290,
          -290,
          -305,
          -305
         ],
         "yaxis": "y"
        },
        {
         "hoverinfo": "text",
         "marker": {
          "color": "rgb(0,116,217)"
         },
         "mode": "lines",
         "text": [
          "breakfast_food_restaurant_options_buffet",
          "",
          "",
          "english_staff_speak_nil_communicate"
         ],
         "type": "scatter",
         "x": [
          0.6689194466248745,
          1.1458138085056206,
          1.1458138085056206,
          1.0758373034579949
         ],
         "xaxis": "x",
         "y": [
          -262.5,
          -262.5,
          -297.5,
          -297.5
         ],
         "yaxis": "y"
        },
        {
         "hoverinfo": "text",
         "marker": {
          "color": "rgb(0,116,217)"
         },
         "mode": "lines",
         "text": [
          "room_hotel_bit_water_night",
          "",
          "",
          "breakfast_food_restaurant_staff_options"
         ],
         "type": "scatter",
         "x": [
          1.0436585507358058,
          1.1988180513634445,
          1.1988180513634445,
          1.1458138085056206
         ],
         "xaxis": "x",
         "y": [
          -135.8984375,
          -135.8984375,
          -280,
          -280
         ],
         "yaxis": "y"
        },
        {
         "hoverinfo": "text",
         "marker": {
          "color": "rgb(0,116,217)"
         },
         "mode": "lines",
         "text": [
          "nothing_everything_perfect_great_good",
          "",
          "",
          "room_breakfast_hotel_bit_could"
         ],
         "type": "scatter",
         "x": [
          1.1393743939471583,
          1.8776282473646277,
          1.8776282473646277,
          1.1988180513634445
         ],
         "xaxis": "x",
         "y": [
          -40,
          -40,
          -207.94921875,
          -207.94921875
         ],
         "yaxis": "y"
        },
        {
         "hoverinfo": "text",
         "hovertext": [
          "nothing_everything_stay_anything_longer",
          "nothing_everything_stay_anything_say",
          "perfect_everything_nothing_good_great",
          "noisy_noise_room_hotel_night",
          "room_noisy_noise_hotel_night",
          "room_window_view_rooms_light",
          "bed_hard_beds_air_ac",
          "wifi_elevator_tv_lift_stairs",
          "pool_beach_far_location_swimming",
          "room_noisy_bed_hotel_night",
          "water_hot_shower_bottles_cold",
          "english_staff_speak_communicate_friendly",
          "breakfast_food_restaurant_options_buffet",
          "room_hotel_bit_water_night",
          "nothing_everything_perfect_great_good"
         ],
         "marker": {
          "color": "black"
         },
         "mode": "markers",
         "showlegend": false,
         "type": "scatter",
         "x": [
          0.38878374555805995,
          0.5872446410876957,
          0.9721991044564938,
          0.4706938617521127,
          0.6309660924691173,
          0.5911664138531403,
          0.7757175301577292,
          0.8615000844206548,
          0.777484446680065,
          0.929035281735118,
          0.6443982126133646,
          0.6637059201941206,
          0.6689194466248745,
          1.0436585507358058,
          1.1393743939471583
         ],
         "y": [
          -50,
          -57.5,
          -13.75,
          -170,
          -177.5,
          -150,
          -130,
          -110,
          -222.5,
          -129.84375,
          -90,
          -290,
          -262.5,
          -135.8984375,
          -40
         ]
        },
        {
         "hoverinfo": "text",
         "hovertext": [
          "perfect_everything_nothing_good_absolutely",
          "perfect_everything_nothing_great_ok",
          "nothing_everything_stay_anything_say",
          "bathroom_smell_shower_room_toilet",
          "room_noisy_noise_hotel_night",
          "room_noisy_noise_hotel_night",
          "room_noisy_bed_night_hotel",
          "beach_far_location_taxi_town",
          "pool_beach_far_location_swimming",
          "room_hotel_bit_pool_night",
          "breakfast_food_restaurant_buffet_coffee",
          "english_staff_speak_nil_communicate",
          "breakfast_food_restaurant_staff_options",
          "room_breakfast_hotel_bit_could"
         ],
         "marker": {
          "color": "black"
         },
         "mode": "markers",
         "showlegend": false,
         "type": "scatter",
         "x": [
          0.12363827664311144,
          0.7593217744112162,
          0.767010830407781,
          0.5436429621158922,
          0.71511175217014,
          0.7669753221791948,
          0.8114838514566483,
          0.691977904094148,
          0.8428002191669487,
          1.0190138720818485,
          0.380437230707535,
          1.0758373034579949,
          1.1458138085056206,
          1.1988180513634445
         ],
         "y": [
          -30,
          -22.5,
          -66.25,
          -200,
          -188.75,
          -169.375,
          -149.6875,
          -230,
          -233.75,
          -181.796875,
          -270,
          -297.5,
          -280,
          -207.94921875
         ]
        }
       ],
       "layout": {
        "autosize": false,
        "height": 665,
        "hoverlabel": {
         "bgcolor": "white",
         "font": {
          "family": "Rockwell",
          "size": 16
         }
        },
        "hovermode": "closest",
        "plot_bgcolor": "#ECEFF1",
        "showlegend": false,
        "template": {
         "data": {
          "bar": [
           {
            "error_x": {
             "color": "#2a3f5f"
            },
            "error_y": {
             "color": "#2a3f5f"
            },
            "marker": {
             "line": {
              "color": "white",
              "width": 0.5
             },
             "pattern": {
              "fillmode": "overlay",
              "size": 10,
              "solidity": 0.2
             }
            },
            "type": "bar"
           }
          ],
          "barpolar": [
           {
            "marker": {
             "line": {
              "color": "white",
              "width": 0.5
             },
             "pattern": {
              "fillmode": "overlay",
              "size": 10,
              "solidity": 0.2
             }
            },
            "type": "barpolar"
           }
          ],
          "carpet": [
           {
            "aaxis": {
             "endlinecolor": "#2a3f5f",
             "gridcolor": "#C8D4E3",
             "linecolor": "#C8D4E3",
             "minorgridcolor": "#C8D4E3",
             "startlinecolor": "#2a3f5f"
            },
            "baxis": {
             "endlinecolor": "#2a3f5f",
             "gridcolor": "#C8D4E3",
             "linecolor": "#C8D4E3",
             "minorgridcolor": "#C8D4E3",
             "startlinecolor": "#2a3f5f"
            },
            "type": "carpet"
           }
          ],
          "choropleth": [
           {
            "colorbar": {
             "outlinewidth": 0,
             "ticks": ""
            },
            "type": "choropleth"
           }
          ],
          "contour": [
           {
            "colorbar": {
             "outlinewidth": 0,
             "ticks": ""
            },
            "colorscale": [
             [
              0,
              "#0d0887"
             ],
             [
              0.1111111111111111,
              "#46039f"
             ],
             [
              0.2222222222222222,
              "#7201a8"
             ],
             [
              0.3333333333333333,
              "#9c179e"
             ],
             [
              0.4444444444444444,
              "#bd3786"
             ],
             [
              0.5555555555555556,
              "#d8576b"
             ],
             [
              0.6666666666666666,
              "#ed7953"
             ],
             [
              0.7777777777777778,
              "#fb9f3a"
             ],
             [
              0.8888888888888888,
              "#fdca26"
             ],
             [
              1,
              "#f0f921"
             ]
            ],
            "type": "contour"
           }
          ],
          "contourcarpet": [
           {
            "colorbar": {
             "outlinewidth": 0,
             "ticks": ""
            },
            "type": "contourcarpet"
           }
          ],
          "heatmap": [
           {
            "colorbar": {
             "outlinewidth": 0,
             "ticks": ""
            },
            "colorscale": [
             [
              0,
              "#0d0887"
             ],
             [
              0.1111111111111111,
              "#46039f"
             ],
             [
              0.2222222222222222,
              "#7201a8"
             ],
             [
              0.3333333333333333,
              "#9c179e"
             ],
             [
              0.4444444444444444,
              "#bd3786"
             ],
             [
              0.5555555555555556,
              "#d8576b"
             ],
             [
              0.6666666666666666,
              "#ed7953"
             ],
             [
              0.7777777777777778,
              "#fb9f3a"
             ],
             [
              0.8888888888888888,
              "#fdca26"
             ],
             [
              1,
              "#f0f921"
             ]
            ],
            "type": "heatmap"
           }
          ],
          "heatmapgl": [
           {
            "colorbar": {
             "outlinewidth": 0,
             "ticks": ""
            },
            "colorscale": [
             [
              0,
              "#0d0887"
             ],
             [
              0.1111111111111111,
              "#46039f"
             ],
             [
              0.2222222222222222,
              "#7201a8"
             ],
             [
              0.3333333333333333,
              "#9c179e"
             ],
             [
              0.4444444444444444,
              "#bd3786"
             ],
             [
              0.5555555555555556,
              "#d8576b"
             ],
             [
              0.6666666666666666,
              "#ed7953"
             ],
             [
              0.7777777777777778,
              "#fb9f3a"
             ],
             [
              0.8888888888888888,
              "#fdca26"
             ],
             [
              1,
              "#f0f921"
             ]
            ],
            "type": "heatmapgl"
           }
          ],
          "histogram": [
           {
            "marker": {
             "pattern": {
              "fillmode": "overlay",
              "size": 10,
              "solidity": 0.2
             }
            },
            "type": "histogram"
           }
          ],
          "histogram2d": [
           {
            "colorbar": {
             "outlinewidth": 0,
             "ticks": ""
            },
            "colorscale": [
             [
              0,
              "#0d0887"
             ],
             [
              0.1111111111111111,
              "#46039f"
             ],
             [
              0.2222222222222222,
              "#7201a8"
             ],
             [
              0.3333333333333333,
              "#9c179e"
             ],
             [
              0.4444444444444444,
              "#bd3786"
             ],
             [
              0.5555555555555556,
              "#d8576b"
             ],
             [
              0.6666666666666666,
              "#ed7953"
             ],
             [
              0.7777777777777778,
              "#fb9f3a"
             ],
             [
              0.8888888888888888,
              "#fdca26"
             ],
             [
              1,
              "#f0f921"
             ]
            ],
            "type": "histogram2d"
           }
          ],
          "histogram2dcontour": [
           {
            "colorbar": {
             "outlinewidth": 0,
             "ticks": ""
            },
            "colorscale": [
             [
              0,
              "#0d0887"
             ],
             [
              0.1111111111111111,
              "#46039f"
             ],
             [
              0.2222222222222222,
              "#7201a8"
             ],
             [
              0.3333333333333333,
              "#9c179e"
             ],
             [
              0.4444444444444444,
              "#bd3786"
             ],
             [
              0.5555555555555556,
              "#d8576b"
             ],
             [
              0.6666666666666666,
              "#ed7953"
             ],
             [
              0.7777777777777778,
              "#fb9f3a"
             ],
             [
              0.8888888888888888,
              "#fdca26"
             ],
             [
              1,
              "#f0f921"
             ]
            ],
            "type": "histogram2dcontour"
           }
          ],
          "mesh3d": [
           {
            "colorbar": {
             "outlinewidth": 0,
             "ticks": ""
            },
            "type": "mesh3d"
           }
          ],
          "parcoords": [
           {
            "line": {
             "colorbar": {
              "outlinewidth": 0,
              "ticks": ""
             }
            },
            "type": "parcoords"
           }
          ],
          "pie": [
           {
            "automargin": true,
            "type": "pie"
           }
          ],
          "scatter": [
           {
            "fillpattern": {
             "fillmode": "overlay",
             "size": 10,
             "solidity": 0.2
            },
            "type": "scatter"
           }
          ],
          "scatter3d": [
           {
            "line": {
             "colorbar": {
              "outlinewidth": 0,
              "ticks": ""
             }
            },
            "marker": {
             "colorbar": {
              "outlinewidth": 0,
              "ticks": ""
             }
            },
            "type": "scatter3d"
           }
          ],
          "scattercarpet": [
           {
            "marker": {
             "colorbar": {
              "outlinewidth": 0,
              "ticks": ""
             }
            },
            "type": "scattercarpet"
           }
          ],
          "scattergeo": [
           {
            "marker": {
             "colorbar": {
              "outlinewidth": 0,
              "ticks": ""
             }
            },
            "type": "scattergeo"
           }
          ],
          "scattergl": [
           {
            "marker": {
             "colorbar": {
              "outlinewidth": 0,
              "ticks": ""
             }
            },
            "type": "scattergl"
           }
          ],
          "scattermapbox": [
           {
            "marker": {
             "colorbar": {
              "outlinewidth": 0,
              "ticks": ""
             }
            },
            "type": "scattermapbox"
           }
          ],
          "scatterpolar": [
           {
            "marker": {
             "colorbar": {
              "outlinewidth": 0,
              "ticks": ""
             }
            },
            "type": "scatterpolar"
           }
          ],
          "scatterpolargl": [
           {
            "marker": {
             "colorbar": {
              "outlinewidth": 0,
              "ticks": ""
             }
            },
            "type": "scatterpolargl"
           }
          ],
          "scatterternary": [
           {
            "marker": {
             "colorbar": {
              "outlinewidth": 0,
              "ticks": ""
             }
            },
            "type": "scatterternary"
           }
          ],
          "surface": [
           {
            "colorbar": {
             "outlinewidth": 0,
             "ticks": ""
            },
            "colorscale": [
             [
              0,
              "#0d0887"
             ],
             [
              0.1111111111111111,
              "#46039f"
             ],
             [
              0.2222222222222222,
              "#7201a8"
             ],
             [
              0.3333333333333333,
              "#9c179e"
             ],
             [
              0.4444444444444444,
              "#bd3786"
             ],
             [
              0.5555555555555556,
              "#d8576b"
             ],
             [
              0.6666666666666666,
              "#ed7953"
             ],
             [
              0.7777777777777778,
              "#fb9f3a"
             ],
             [
              0.8888888888888888,
              "#fdca26"
             ],
             [
              1,
              "#f0f921"
             ]
            ],
            "type": "surface"
           }
          ],
          "table": [
           {
            "cells": {
             "fill": {
              "color": "#EBF0F8"
             },
             "line": {
              "color": "white"
             }
            },
            "header": {
             "fill": {
              "color": "#C8D4E3"
             },
             "line": {
              "color": "white"
             }
            },
            "type": "table"
           }
          ]
         },
         "layout": {
          "annotationdefaults": {
           "arrowcolor": "#2a3f5f",
           "arrowhead": 0,
           "arrowwidth": 1
          },
          "autotypenumbers": "strict",
          "coloraxis": {
           "colorbar": {
            "outlinewidth": 0,
            "ticks": ""
           }
          },
          "colorscale": {
           "diverging": [
            [
             0,
             "#8e0152"
            ],
            [
             0.1,
             "#c51b7d"
            ],
            [
             0.2,
             "#de77ae"
            ],
            [
             0.3,
             "#f1b6da"
            ],
            [
             0.4,
             "#fde0ef"
            ],
            [
             0.5,
             "#f7f7f7"
            ],
            [
             0.6,
             "#e6f5d0"
            ],
            [
             0.7,
             "#b8e186"
            ],
            [
             0.8,
             "#7fbc41"
            ],
            [
             0.9,
             "#4d9221"
            ],
            [
             1,
             "#276419"
            ]
           ],
           "sequential": [
            [
             0,
             "#0d0887"
            ],
            [
             0.1111111111111111,
             "#46039f"
            ],
            [
             0.2222222222222222,
             "#7201a8"
            ],
            [
             0.3333333333333333,
             "#9c179e"
            ],
            [
             0.4444444444444444,
             "#bd3786"
            ],
            [
             0.5555555555555556,
             "#d8576b"
            ],
            [
             0.6666666666666666,
             "#ed7953"
            ],
            [
             0.7777777777777778,
             "#fb9f3a"
            ],
            [
             0.8888888888888888,
             "#fdca26"
            ],
            [
             1,
             "#f0f921"
            ]
           ],
           "sequentialminus": [
            [
             0,
             "#0d0887"
            ],
            [
             0.1111111111111111,
             "#46039f"
            ],
            [
             0.2222222222222222,
             "#7201a8"
            ],
            [
             0.3333333333333333,
             "#9c179e"
            ],
            [
             0.4444444444444444,
             "#bd3786"
            ],
            [
             0.5555555555555556,
             "#d8576b"
            ],
            [
             0.6666666666666666,
             "#ed7953"
            ],
            [
             0.7777777777777778,
             "#fb9f3a"
            ],
            [
             0.8888888888888888,
             "#fdca26"
            ],
            [
             1,
             "#f0f921"
            ]
           ]
          },
          "colorway": [
           "#636efa",
           "#EF553B",
           "#00cc96",
           "#ab63fa",
           "#FFA15A",
           "#19d3f3",
           "#FF6692",
           "#B6E880",
           "#FF97FF",
           "#FECB52"
          ],
          "font": {
           "color": "#2a3f5f"
          },
          "geo": {
           "bgcolor": "white",
           "lakecolor": "white",
           "landcolor": "white",
           "showlakes": true,
           "showland": true,
           "subunitcolor": "#C8D4E3"
          },
          "hoverlabel": {
           "align": "left"
          },
          "hovermode": "closest",
          "mapbox": {
           "style": "light"
          },
          "paper_bgcolor": "white",
          "plot_bgcolor": "white",
          "polar": {
           "angularaxis": {
            "gridcolor": "#EBF0F8",
            "linecolor": "#EBF0F8",
            "ticks": ""
           },
           "bgcolor": "white",
           "radialaxis": {
            "gridcolor": "#EBF0F8",
            "linecolor": "#EBF0F8",
            "ticks": ""
           }
          },
          "scene": {
           "xaxis": {
            "backgroundcolor": "white",
            "gridcolor": "#DFE8F3",
            "gridwidth": 2,
            "linecolor": "#EBF0F8",
            "showbackground": true,
            "ticks": "",
            "zerolinecolor": "#EBF0F8"
           },
           "yaxis": {
            "backgroundcolor": "white",
            "gridcolor": "#DFE8F3",
            "gridwidth": 2,
            "linecolor": "#EBF0F8",
            "showbackground": true,
            "ticks": "",
            "zerolinecolor": "#EBF0F8"
           },
           "zaxis": {
            "backgroundcolor": "white",
            "gridcolor": "#DFE8F3",
            "gridwidth": 2,
            "linecolor": "#EBF0F8",
            "showbackground": true,
            "ticks": "",
            "zerolinecolor": "#EBF0F8"
           }
          },
          "shapedefaults": {
           "line": {
            "color": "#2a3f5f"
           }
          },
          "ternary": {
           "aaxis": {
            "gridcolor": "#DFE8F3",
            "linecolor": "#A2B1C6",
            "ticks": ""
           },
           "baxis": {
            "gridcolor": "#DFE8F3",
            "linecolor": "#A2B1C6",
            "ticks": ""
           },
           "bgcolor": "white",
           "caxis": {
            "gridcolor": "#DFE8F3",
            "linecolor": "#A2B1C6",
            "ticks": ""
           }
          },
          "title": {
           "x": 0.05
          },
          "xaxis": {
           "automargin": true,
           "gridcolor": "#EBF0F8",
           "linecolor": "#EBF0F8",
           "ticks": "",
           "title": {
            "standoff": 15
           },
           "zerolinecolor": "#EBF0F8",
           "zerolinewidth": 2
          },
          "yaxis": {
           "automargin": true,
           "gridcolor": "#EBF0F8",
           "linecolor": "#EBF0F8",
           "ticks": "",
           "title": {
            "standoff": 15
           },
           "zerolinecolor": "#EBF0F8",
           "zerolinewidth": 2
          }
         }
        },
        "title": {
         "font": {
          "color": "Black",
          "size": 22
         },
         "text": "<b>Hierarchical Clustering</b>",
         "x": 0.5,
         "xanchor": "center",
         "yanchor": "top"
        },
        "width": 1000,
        "xaxis": {
         "mirror": "allticks",
         "rangemode": "tozero",
         "showgrid": false,
         "showline": true,
         "showticklabels": true,
         "ticks": "outside",
         "type": "linear",
         "zeroline": false
        },
        "yaxis": {
         "mirror": "allticks",
         "range": [
          -310,
          0
         ],
         "rangemode": "tozero",
         "showgrid": false,
         "showline": true,
         "showticklabels": true,
         "tickmode": "array",
         "ticks": "outside",
         "ticktext": [
          "24_good_fine_everything",
          "29_everything_great_ok",
          "25_perfect_everything_nothing",
          "22_perfect_nothing_everything",
          "18_nothing_say_really",
          "5_nothing_everything_stay",
          "20_hotel_nothing_like",
          "21_price_fault_value",
          "28_water_bottles_plastic",
          "14_hot_water_shower",
          "15_elevator_lift_stairs",
          "9_wifi_tv_internet",
          "12_air_ac_aircon",
          "8_bed_hard_beds",
          "13_rooms_room_small",
          "10_window_view_light",
          "1_noisy_noise_loud",
          "4_hotel_us_room",
          "11_mosquitoes_ants_mosquito",
          "2_smell_room_clean",
          "6_shower_bathroom_toilet",
          "7_pool_swimming_area",
          "16_beach_sea_hotel",
          "3_far_location_taxi",
          "26_boat_cruise_bay",
          "30_vegetarian_options_vegan",
          "0_breakfast_food_restaurant",
          "27_vietnamese_vietnam_food",
          "17_english_speak_staff",
          "19_staff_friendly_helpful",
          "23_nil_great_excellent"
         ],
         "tickvals": [
          -5,
          -15,
          -25,
          -35,
          -45,
          -55,
          -65,
          -75,
          -85,
          -95,
          -105,
          -115,
          -125,
          -135,
          -145,
          -155,
          -165,
          -175,
          -185,
          -195,
          -205,
          -215,
          -225,
          -235,
          -245,
          -255,
          -265,
          -275,
          -285,
          -295,
          -305
         ],
         "type": "linear",
         "zeroline": false
        }
       }
      }
     },
     "metadata": {},
     "output_type": "display_data"
    }
   ],
   "source": [
    "topic_model.visualize_hierarchy(hierarchical_topics=hierarchical_topics)"
   ]
  },
  {
   "cell_type": "code",
   "execution_count": 24,
   "metadata": {},
   "outputs": [
    {
     "name": "stdout",
     "output_type": "stream",
     "text": [
      ".\n",
      "├─nothing_everything_perfect_great_good\n",
      "│    ├─perfect_everything_nothing_good_great\n",
      "│    │    ├─■──good_fine_everything_everythings_well ── Topic: 24\n",
      "│    │    └─perfect_everything_nothing_great_ok\n",
      "│    │         ├─■──everything_great_ok_excellent_wonderful ── Topic: 29\n",
      "│    │         └─perfect_everything_nothing_good_absolutely\n",
      "│    │              ├─■──perfect_everything_nothing_good_really ── Topic: 25\n",
      "│    │              └─■──perfect_nothing_everything_note_flawless ── Topic: 22\n",
      "│    └─nothing_everything_stay_anything_say\n",
      "│         ├─nothing_everything_stay_anything_say\n",
      "│         │    ├─nothing_everything_stay_anything_longer\n",
      "│         │    │    ├─■──nothing_say_really_particular_much ── Topic: 18\n",
      "│         │    │    └─■──nothing_everything_stay_longer_anything ── Topic: 5\n",
      "│         │    └─■──hotel_nothing_like_homestay_fault ── Topic: 20\n",
      "│         └─■──price_fault_value_money_nothing ── Topic: 21\n",
      "└─room_breakfast_hotel_bit_could\n",
      "     ├─room_hotel_bit_water_night\n",
      "     │    ├─water_hot_shower_bottles_cold\n",
      "     │    │    ├─■──water_bottles_plastic_bottle_free ── Topic: 28\n",
      "     │    │    └─■──hot_water_shower_cold_warm ── Topic: 14\n",
      "     │    └─room_hotel_bit_pool_night\n",
      "     │         ├─room_noisy_bed_hotel_night\n",
      "     │         │    ├─wifi_elevator_tv_lift_stairs\n",
      "     │         │    │    ├─■──elevator_lift_stairs_floor_luggage ── Topic: 15\n",
      "     │         │    │    └─■──wifi_tv_internet_weak_connection ── Topic: 9\n",
      "     │         │    └─room_noisy_bed_night_hotel\n",
      "     │         │         ├─bed_hard_beds_air_ac\n",
      "     │         │         │    ├─■──air_ac_aircon_cold_conditioning ── Topic: 12\n",
      "     │         │         │    └─■──bed_hard_beds_mattress_pillows ── Topic: 8\n",
      "     │         │         └─room_noisy_noise_hotel_night\n",
      "     │         │              ├─room_window_view_rooms_light\n",
      "     │         │              │    ├─■──rooms_room_small_bit_smaller ── Topic: 13\n",
      "     │         │              │    └─■──window_view_light_room_windows ── Topic: 10\n",
      "     │         │              └─room_noisy_noise_hotel_night\n",
      "     │         │                   ├─room_noisy_noise_hotel_night\n",
      "     │         │                   │    ├─noisy_noise_room_hotel_night\n",
      "     │         │                   │    │    ├─■──noisy_noise_loud_hear_night ── Topic: 1\n",
      "     │         │                   │    │    └─■──hotel_us_room_staff_check ── Topic: 4\n",
      "     │         │                   │    └─■──mosquitoes_ants_mosquito_mosquitos_bugs ── Topic: 11\n",
      "     │         │                   └─bathroom_smell_shower_room_toilet\n",
      "     │         │                        ├─■──smell_room_clean_towels_bathroom ── Topic: 2\n",
      "     │         │                        └─■──shower_bathroom_toilet_water_floor ── Topic: 6\n",
      "     │         └─pool_beach_far_location_swimming\n",
      "     │              ├─pool_beach_far_location_swimming\n",
      "     │              │    ├─■──pool_swimming_area_bar_small ── Topic: 7\n",
      "     │              │    └─beach_far_location_taxi_town\n",
      "     │              │         ├─■──beach_sea_hotel_sand_walk ── Topic: 16\n",
      "     │              │         └─■──far_location_taxi_town_city ── Topic: 3\n",
      "     │              └─■──boat_cruise_bay_tour_cruises ── Topic: 26\n",
      "     └─breakfast_food_restaurant_staff_options\n",
      "          ├─breakfast_food_restaurant_options_buffet\n",
      "          │    ├─■──vegetarian_options_vegan_breakfast_vegetarians ── Topic: 30\n",
      "          │    └─breakfast_food_restaurant_buffet_coffee\n",
      "          │         ├─■──breakfast_food_restaurant_buffet_coffee ── Topic: 0\n",
      "          │         └─■──vietnamese_vietnam_food_breakfast_western ── Topic: 27\n",
      "          └─english_staff_speak_nil_communicate\n",
      "               ├─english_staff_speak_communicate_friendly\n",
      "               │    ├─■──english_speak_staff_communicate_communication ── Topic: 17\n",
      "               │    └─■──staff_friendly_helpful_reception_staffs ── Topic: 19\n",
      "               └─■──nil_great_excellent_far_lovely ── Topic: 23\n",
      "\n"
     ]
    }
   ],
   "source": [
    "# Topic tree\n",
    "tree = topic_model.get_topic_tree(hierarchical_topics)\n",
    "\n",
    "# Print out the tree\n",
    "print(tree)"
   ]
  },
  {
   "cell_type": "code",
   "execution_count": 25,
   "metadata": {},
   "outputs": [],
   "source": [
    "# A function to map parent and child topics\n",
    "def topic_mapping(child_topic_number):\n",
    "  if child_topic_number in [18,5,20,21]:\n",
    "    return 'P1_unspecific_complaint'\n",
    "  elif child_topic_number in [24,29,25,22]:\n",
    "    return 'P2_Satisfied'\n",
    "  elif child_topic_number in [30,0,27]:\n",
    "    return 'P3_food_service'\n",
    "  elif child_topic_number in [17,19,23]:\n",
    "    return 'P4_staff_communication_skill'\n",
    "  elif child_topic_number in [7,16,3,26]:\n",
    "    return 'P5_beach_poll_location'\n",
    "  elif child_topic_number in [12,8]:\n",
    "    return 'P6_bedding_quality'\n",
    "  elif child_topic_number in [1,4,11]:\n",
    "    return 'P7_nighttime_noise'\n",
    "  elif child_topic_number in [13,10]:\n",
    "    return 'P8_room_view'\n",
    "  elif child_topic_number in [28,14]:\n",
    "    return 'P9_Water'\n",
    "  elif child_topic_number in [2,6]:\n",
    "    return 'P10_bathroom_quality'\n",
    "  elif child_topic_number in [15,9]:\n",
    "    return 'P11_electric_equipment'"
   ]
  },
  {
   "cell_type": "code",
   "execution_count": 26,
   "metadata": {},
   "outputs": [
    {
     "data": {
      "text/html": [
       "<div>\n",
       "<style scoped>\n",
       "    .dataframe tbody tr th:only-of-type {\n",
       "        vertical-align: middle;\n",
       "    }\n",
       "\n",
       "    .dataframe tbody tr th {\n",
       "        vertical-align: top;\n",
       "    }\n",
       "\n",
       "    .dataframe thead th {\n",
       "        text-align: right;\n",
       "    }\n",
       "</style>\n",
       "<table border=\"1\" class=\"dataframe\">\n",
       "  <thead>\n",
       "    <tr style=\"text-align: right;\">\n",
       "      <th></th>\n",
       "      <th>review_id</th>\n",
       "      <th>dislike</th>\n",
       "      <th>dislike_without_stopwords</th>\n",
       "      <th>dislike_remove_special_characters</th>\n",
       "      <th>dislike_processed</th>\n",
       "      <th>child_topic</th>\n",
       "      <th>parent_topic</th>\n",
       "    </tr>\n",
       "  </thead>\n",
       "  <tbody>\n",
       "    <tr>\n",
       "      <th>0</th>\n",
       "      <td>1</td>\n",
       "      <td>Although the ship is just over a year old, the...</td>\n",
       "      <td>Although ship year old, hardware showing signs...</td>\n",
       "      <td>Although ship year old hardware showing signs ...</td>\n",
       "      <td>[although, ship, year, old, hardware, showing,...</td>\n",
       "      <td>-1</td>\n",
       "      <td>None</td>\n",
       "    </tr>\n",
       "    <tr>\n",
       "      <th>1</th>\n",
       "      <td>6</td>\n",
       "      <td>A jaccuzi bath would be a good feature in the ...</td>\n",
       "      <td>jaccuzi bath would good feature gigantic bathroom</td>\n",
       "      <td>jaccuzi bath would good feature gigantic bathroom</td>\n",
       "      <td>[jaccuzi, bath, would, good, feature, gigantic...</td>\n",
       "      <td>6</td>\n",
       "      <td>P10_bathroom_quality</td>\n",
       "    </tr>\n",
       "    <tr>\n",
       "      <th>2</th>\n",
       "      <td>22</td>\n",
       "      <td>Smell is an challenging</td>\n",
       "      <td>Smell challenging</td>\n",
       "      <td>Smell challenging</td>\n",
       "      <td>[smell, challenging]</td>\n",
       "      <td>2</td>\n",
       "      <td>P10_bathroom_quality</td>\n",
       "    </tr>\n",
       "    <tr>\n",
       "      <th>3</th>\n",
       "      <td>24</td>\n",
       "      <td>The walls are too thin. I could easily hear pe...</td>\n",
       "      <td>walls thin. could easily hear people talking, ...</td>\n",
       "      <td>walls thin could easily hear people talking la...</td>\n",
       "      <td>[wall, thin, could, easily, hear, people, talk...</td>\n",
       "      <td>1</td>\n",
       "      <td>P7_nighttime_noise</td>\n",
       "    </tr>\n",
       "    <tr>\n",
       "      <th>4</th>\n",
       "      <td>25</td>\n",
       "      <td>our room was really cold in the night.</td>\n",
       "      <td>room really cold night.</td>\n",
       "      <td>room really cold night</td>\n",
       "      <td>[room, really, cold, night]</td>\n",
       "      <td>12</td>\n",
       "      <td>P6_bedding_quality</td>\n",
       "    </tr>\n",
       "    <tr>\n",
       "      <th>5</th>\n",
       "      <td>28</td>\n",
       "      <td>The information provided was not clear and pre...</td>\n",
       "      <td>information provided clear precisely enough ne...</td>\n",
       "      <td>information provided clear precisely enough ne...</td>\n",
       "      <td>[information, provided, clear, precisely, enou...</td>\n",
       "      <td>4</td>\n",
       "      <td>P7_nighttime_noise</td>\n",
       "    </tr>\n",
       "    <tr>\n",
       "      <th>6</th>\n",
       "      <td>29</td>\n",
       "      <td>Room was noisy, not very good sound proof. Sus...</td>\n",
       "      <td>Room noisy, good sound proof. Sushi restaurant...</td>\n",
       "      <td>Room noisy good sound proof Sushi restaurant e...</td>\n",
       "      <td>[room, noisy, good, sound, proof, sushi, resta...</td>\n",
       "      <td>1</td>\n",
       "      <td>P7_nighttime_noise</td>\n",
       "    </tr>\n",
       "    <tr>\n",
       "      <th>7</th>\n",
       "      <td>83</td>\n",
       "      <td>Breakfast - alittle chaotic when the hotel is ...</td>\n",
       "      <td>Breakfast - alittle chaotic hotel packed, food...</td>\n",
       "      <td>Breakfast  alittle chaotic hotel packed food r...</td>\n",
       "      <td>[breakfast, alittle, chaotic, hotel, packed, f...</td>\n",
       "      <td>-1</td>\n",
       "      <td>None</td>\n",
       "    </tr>\n",
       "    <tr>\n",
       "      <th>8</th>\n",
       "      <td>89</td>\n",
       "      <td>Nothing - a litle paradise</td>\n",
       "      <td>Nothing - litle paradise</td>\n",
       "      <td>Nothing  litle paradise</td>\n",
       "      <td>[nothing, litle, paradise]</td>\n",
       "      <td>-1</td>\n",
       "      <td>None</td>\n",
       "    </tr>\n",
       "    <tr>\n",
       "      <th>9</th>\n",
       "      <td>96</td>\n",
       "      <td>The hotel is a 3km short drive from the centre...</td>\n",
       "      <td>hotel 3km short drive centre Hoi however hotel...</td>\n",
       "      <td>hotel 3km short drive centre Hoi however hotel...</td>\n",
       "      <td>[hotel, 3km, short, drive, centre, hoi, howeve...</td>\n",
       "      <td>3</td>\n",
       "      <td>P5_beach_poll_location</td>\n",
       "    </tr>\n",
       "  </tbody>\n",
       "</table>\n",
       "</div>"
      ],
      "text/plain": [
       "   review_id                                            dislike  \\\n",
       "0          1  Although the ship is just over a year old, the...   \n",
       "1          6  A jaccuzi bath would be a good feature in the ...   \n",
       "2         22                            Smell is an challenging   \n",
       "3         24  The walls are too thin. I could easily hear pe...   \n",
       "4         25             our room was really cold in the night.   \n",
       "5         28  The information provided was not clear and pre...   \n",
       "6         29  Room was noisy, not very good sound proof. Sus...   \n",
       "7         83  Breakfast - alittle chaotic when the hotel is ...   \n",
       "8         89                         Nothing - a litle paradise   \n",
       "9         96  The hotel is a 3km short drive from the centre...   \n",
       "\n",
       "                           dislike_without_stopwords  \\\n",
       "0  Although ship year old, hardware showing signs...   \n",
       "1  jaccuzi bath would good feature gigantic bathroom   \n",
       "2                                  Smell challenging   \n",
       "3  walls thin. could easily hear people talking, ...   \n",
       "4                            room really cold night.   \n",
       "5  information provided clear precisely enough ne...   \n",
       "6  Room noisy, good sound proof. Sushi restaurant...   \n",
       "7  Breakfast - alittle chaotic hotel packed, food...   \n",
       "8                           Nothing - litle paradise   \n",
       "9  hotel 3km short drive centre Hoi however hotel...   \n",
       "\n",
       "                   dislike_remove_special_characters  \\\n",
       "0  Although ship year old hardware showing signs ...   \n",
       "1  jaccuzi bath would good feature gigantic bathroom   \n",
       "2                                  Smell challenging   \n",
       "3  walls thin could easily hear people talking la...   \n",
       "4                             room really cold night   \n",
       "5  information provided clear precisely enough ne...   \n",
       "6  Room noisy good sound proof Sushi restaurant e...   \n",
       "7  Breakfast  alittle chaotic hotel packed food r...   \n",
       "8                            Nothing  litle paradise   \n",
       "9  hotel 3km short drive centre Hoi however hotel...   \n",
       "\n",
       "                                   dislike_processed  child_topic  \\\n",
       "0  [although, ship, year, old, hardware, showing,...           -1   \n",
       "1  [jaccuzi, bath, would, good, feature, gigantic...            6   \n",
       "2                               [smell, challenging]            2   \n",
       "3  [wall, thin, could, easily, hear, people, talk...            1   \n",
       "4                        [room, really, cold, night]           12   \n",
       "5  [information, provided, clear, precisely, enou...            4   \n",
       "6  [room, noisy, good, sound, proof, sushi, resta...            1   \n",
       "7  [breakfast, alittle, chaotic, hotel, packed, f...           -1   \n",
       "8                         [nothing, litle, paradise]           -1   \n",
       "9  [hotel, 3km, short, drive, centre, hoi, howeve...            3   \n",
       "\n",
       "             parent_topic  \n",
       "0                    None  \n",
       "1    P10_bathroom_quality  \n",
       "2    P10_bathroom_quality  \n",
       "3      P7_nighttime_noise  \n",
       "4      P6_bedding_quality  \n",
       "5      P7_nighttime_noise  \n",
       "6      P7_nighttime_noise  \n",
       "7                    None  \n",
       "8                    None  \n",
       "9  P5_beach_poll_location  "
      ]
     },
     "execution_count": 26,
     "metadata": {},
     "output_type": "execute_result"
    }
   ],
   "source": [
    "# Get the child topic predictions from the basic BERTopic model\n",
    "child_topic_prediction = topic_model.topics_[:]\n",
    "\n",
    "# Save the child predictions in the dataframe\n",
    "df['child_topic'] = child_topic_prediction\n",
    "\n",
    "# Create the parent topics\n",
    "df['parent_topic'] = df['child_topic'].apply(topic_mapping)\n",
    "\n",
    "# Take a look at the data\n",
    "df.head(10)"
   ]
  },
  {
   "cell_type": "code",
   "execution_count": 27,
   "metadata": {},
   "outputs": [],
   "source": [
    "df.to_csv('output.csv', index=False)"
   ]
  },
  {
   "cell_type": "code",
   "execution_count": 28,
   "metadata": {},
   "outputs": [
    {
     "data": {
      "text/plain": [
       "0                          None\n",
       "1          P10_bathroom_quality\n",
       "2          P10_bathroom_quality\n",
       "3            P7_nighttime_noise\n",
       "4            P6_bedding_quality\n",
       "                  ...          \n",
       "41942      P10_bathroom_quality\n",
       "41943        P7_nighttime_noise\n",
       "41944    P5_beach_poll_location\n",
       "41945                      None\n",
       "41946              P8_room_view\n",
       "Name: parent_topic, Length: 41947, dtype: object"
      ]
     },
     "execution_count": 28,
     "metadata": {},
     "output_type": "execute_result"
    }
   ],
   "source": [
    "df['parent_topic']"
   ]
  },
  {
   "cell_type": "code",
   "execution_count": 29,
   "metadata": {},
   "outputs": [],
   "source": [
    "# Lọc giá trị duy nhất của cột 'parent_topic'\n",
    "unique_parent_topics = df['parent_topic'].drop_duplicates()\n",
    "\n",
    "# Tạo DataFrame mới từ các giá trị duy nhất của cột 'parent_topic'\n",
    "unique_parent_topics_df = pd.DataFrame({'parent_topic': unique_parent_topics})\n",
    "\n",
    "# Thêm cột ID với số thứ tự chạy tự động từ 1\n",
    "unique_parent_topics_df['ID'] = range(1, len(unique_parent_topics_df) + 1)\n",
    "\n",
    "# Xuất bảng đã lọc và thiết lập cột ID thành tệp tin CSV\n",
    "unique_parent_topics_df.to_csv('unique_parent_topics.csv', index=False)"
   ]
  },
  {
   "cell_type": "code",
   "execution_count": 30,
   "metadata": {},
   "outputs": [
    {
     "data": {
      "text/plain": [
       "'Although the ship is just over a year old, the hardware is showing signs of wear and tear. The shower stall could be cleaner. The room was hot at check in as there was afternoon sun, but thanks to Mai, an electric fan was promptly delivered to our room. The food quality was just above average but the service more than makes up for it.'"
      ]
     },
     "execution_count": 30,
     "metadata": {},
     "output_type": "execute_result"
    }
   ],
   "source": [
    "# Take a look at the first review\n",
    "df['dislike'][0]"
   ]
  },
  {
   "cell_type": "code",
   "execution_count": 31,
   "metadata": {},
   "outputs": [
    {
     "data": {
      "text/plain": [
       "parent_topic\n",
       "P7_nighttime_noise              6316\n",
       "P3_food_service                 5244\n",
       "P5_beach_poll_location          3702\n",
       "P10_bathroom_quality            3118\n",
       "P1_unspecific_complaint         2585\n",
       "P6_bedding_quality              1852\n",
       "P8_room_view                    1629\n",
       "P11_electric_equipment          1548\n",
       "P4_staff_communication_skill    1182\n",
       "P2_Satisfied                    1075\n",
       "P9_Water                         816\n",
       "Name: count, dtype: int64"
      ]
     },
     "execution_count": 31,
     "metadata": {},
     "output_type": "execute_result"
    }
   ],
   "source": [
    "# Review frequency by parent topic\n",
    "df['parent_topic'].value_counts()"
   ]
  },
  {
   "cell_type": "code",
   "execution_count": 42,
   "metadata": {},
   "outputs": [
    {
     "name": "stdout",
     "output_type": "stream",
     "text": [
      "Level\tTopics\n",
      "1\t\n",
      "2\t\n",
      "3\t\n",
      "4\tP2_Satisfied\n",
      "5\tP2_Satisfied, P1_unspecific_complaint, P9_Water, P9_Water, P3_food_service, P3_food_service, P4_staff_communication_skill\n",
      "6\tP2_Satisfied, P2_Satisfied, P1_unspecific_complaint, P5_beach_poll_location, P4_staff_communication_skill, P4_staff_communication_skill\n",
      "7\tP1_unspecific_complaint, P1_unspecific_complaint, P11_electric_equipment, P11_electric_equipment, P5_beach_poll_location\n",
      "8\tP6_bedding_quality, P6_bedding_quality, P5_beach_poll_location, P5_beach_poll_location\n",
      "9\tP8_room_view, P8_room_view, P7_nighttime_noise\n",
      "10\tP7_nighttime_noise, P7_nighttime_noise\n"
     ]
    }
   ],
   "source": [
    "def create_table(root, table, level=1):\n",
    "    if level not in table:\n",
    "        table[level] = []\n",
    "\n",
    "    if 'mapped_topic' in root:\n",
    "        table[level].append(root['mapped_topic'])\n",
    "\n",
    "    if 'children' in root:\n",
    "        for child in root['children']:\n",
    "            create_table(child, table, level + 1)\n",
    "\n",
    "# Tạo bảng\n",
    "table = {}\n",
    "create_table(tree, table)\n",
    "\n",
    "# In bảng\n",
    "print(\"Level\\tTopics\")\n",
    "for level, topics in table.items():\n",
    "    print(f\"{level}\\t{', '.join(topics)}\")"
   ]
  },
  {
   "cell_type": "code",
   "execution_count": 32,
   "metadata": {},
   "outputs": [
    {
     "name": "stdout",
     "output_type": "stream",
     "text": [
      "            Word  Probability\n",
      "0       Although     0.000328\n",
      "1           ship     0.000071\n",
      "2           year     0.000207\n",
      "3            old     0.002194\n",
      "4       hardware     0.000010\n",
      "...          ...          ...\n",
      "29980     harass     0.000002\n",
      "29981        spl     0.000002\n",
      "29982    smellIn     0.000002\n",
      "29983      Karst     0.000002\n",
      "29984  soundroof     0.000002\n",
      "\n",
      "[29985 rows x 2 columns]\n"
     ]
    }
   ],
   "source": [
    "# Lấy tất cả các từ trong cột 'dislike' và kết hợp chúng thành một chuỗi\n",
    "text = ' '.join(df['dislike_remove_special_characters'].dropna())\n",
    "\n",
    "# Tách các từ\n",
    "words = text.split()\n",
    "\n",
    "# Đếm số lần xuất hiện của mỗi từ\n",
    "word_counts = Counter(words)\n",
    "\n",
    "# Tính tổng số từ\n",
    "total_words = sum(word_counts.values())\n",
    "\n",
    "# Tính xác suất xuất hiện của từng từ\n",
    "word_probabilities = {word: count/total_words for word, count in word_counts.items()}\n",
    "\n",
    "# Tạo DataFrame từ từ điển word_probabilities\n",
    "word_prob_df = pd.DataFrame(list(word_probabilities.items()), columns=['Word', 'Probability'])\n",
    "\n",
    "# Hiển thị bảng\n",
    "print(word_prob_df)"
   ]
  }
 ],
 "metadata": {
  "kernelspec": {
   "display_name": "Python 3",
   "language": "python",
   "name": "python3"
  },
  "language_info": {
   "codemirror_mode": {
    "name": "ipython",
    "version": 3
   },
   "file_extension": ".py",
   "mimetype": "text/x-python",
   "name": "python",
   "nbconvert_exporter": "python",
   "pygments_lexer": "ipython3",
   "version": "3.11.9"
  }
 },
 "nbformat": 4,
 "nbformat_minor": 2
}
